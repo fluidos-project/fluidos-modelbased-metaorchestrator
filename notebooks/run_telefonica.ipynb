{
 "cells": [
  {
   "cell_type": "code",
   "execution_count": 1,
   "metadata": {
    "tags": []
   },
   "outputs": [
    {
     "data": {
      "text/plain": [
       "'\\npip install ipywidgets --upgrade\\n'"
      ]
     },
     "execution_count": 1,
     "metadata": {},
     "output_type": "execute_result"
    }
   ],
   "source": [
    "'''\n",
    "pip install ipywidgets --upgrade\n",
    "'''"
   ]
  },
  {
   "cell_type": "code",
   "execution_count": 2,
   "metadata": {
    "tags": []
   },
   "outputs": [],
   "source": [
    "\n",
    "# !pip install ipywidgets --upgrade\n",
    "# !pip install -r /dccstor/fluidos/luba_dev/fluidos-model-orchestrator/requirements-dev.txt\n",
    "# !pip install /dccstor/fluidos/luba_dev/fluidos-model-orchestrator/\n"
   ]
  },
  {
   "cell_type": "markdown",
   "metadata": {},
   "source": []
  },
  {
   "cell_type": "code",
   "execution_count": 3,
   "metadata": {
    "tags": []
   },
   "outputs": [
    {
     "data": {
      "text/plain": [
       "'/dccstor/fluidos/luba_dev/fluidos-model-orchestrator'"
      ]
     },
     "execution_count": 3,
     "metadata": {},
     "output_type": "execute_result"
    }
   ],
   "source": [
    "import os\n",
    "from pathlib import Path\n",
    "import sys\n",
    "base_path = Path(os.path.abspath(\"\")).parent.parent\n",
    "sys.path.append(base_path.as_posix())\n",
    "base_path.as_posix()"
   ]
  },
  {
   "cell_type": "code",
   "execution_count": 4,
   "metadata": {
    "tags": []
   },
   "outputs": [
    {
     "name": "stderr",
     "output_type": "stream",
     "text": [
      "2024-08-28 06:27:18.708409: E external/local_xla/xla/stream_executor/cuda/cuda_dnn.cc:9261] Unable to register cuDNN factory: Attempting to register factory for plugin cuDNN when one has already been registered\n",
      "2024-08-28 06:27:18.708530: E external/local_xla/xla/stream_executor/cuda/cuda_fft.cc:607] Unable to register cuFFT factory: Attempting to register factory for plugin cuFFT when one has already been registered\n",
      "2024-08-28 06:27:18.709734: E external/local_xla/xla/stream_executor/cuda/cuda_blas.cc:1515] Unable to register cuBLAS factory: Attempting to register factory for plugin cuBLAS when one has already been registered\n",
      "2024-08-28 06:27:18.718983: I tensorflow/core/platform/cpu_feature_guard.cc:182] This TensorFlow binary is optimized to use available CPU instructions in performance-critical operations.\n",
      "To enable the following instructions: AVX2 FMA, in other operations, rebuild TensorFlow with the appropriate compiler flags.\n",
      "2024-08-28 06:27:21.217543: W tensorflow/compiler/tf2tensorrt/utils/py_utils.cc:38] TF-TRT Warning: Could not find TensorRT\n"
     ]
    }
   ],
   "source": [
    "\n",
    "import logging\n",
    "import random\n",
    "import shutil\n",
    "from pathlib import Path\n",
    "from typing import Any\n",
    "import os\n",
    "\n",
    "import numpy as np  # type: ignore\n",
    "import pandas as pd # type: ignore\n",
    "import tensorflow as tf  # type: ignore\n",
    "import torch  # type: ignore\n",
    "import matplotlib.pyplot as plt\n",
    "\n",
    "from fluidos_model_orchestrator.data_pipeline.augmentation import AUGMENTATION_TYPES\n",
    "from fluidos_model_orchestrator.data_pipeline.augmentation.augmentation_pipeline import create_augmented_dataset_df\n",
    "from fluidos_model_orchestrator.data_pipeline.data_processor_factory import DataProcessorFactory\n",
    "from fluidos_model_orchestrator.data_pipeline.data_util import FLUIDOS_DATASETS\n",
    "from fluidos_model_orchestrator.data_pipeline.data_util import get_target_column\n",
    "from fluidos_model_orchestrator.data_pipeline.data_util import load_ml_ready_df\n",
    "from fluidos_model_orchestrator.model.utils import MODEL_TYPES\n",
    "from fluidos_model_orchestrator.model_pipeline.model_trainer_factory import ModelTrainerFactory\n",
    "from fluidos_model_orchestrator.util import get_default_output_dir_path\n",
    "from fluidos_model_orchestrator.util import reset_output_dir\n",
    "from fluidos_model_orchestrator.model.utils import FLUIDOS_COL_NAMES\n",
    "\n",
    "import ipywidgets as widgets\n",
    "widgets.IntSlider()\n",
    "\n",
    "tf.random.set_seed(42)\n",
    "torch.manual_seed(42)\n",
    "random.seed(42)"
   ]
  },
  {
   "cell_type": "markdown",
   "metadata": {},
   "source": [
    "## Hyperparameters"
   ]
  },
  {
   "cell_type": "code",
   "execution_count": 14,
   "metadata": {
    "tags": []
   },
   "outputs": [],
   "source": [
    "ROOT_DIR = Path(os.getcwd()).parent.parent\n",
    "\n",
    "platform = \"ccc\"  # \"local\"\n",
    "dataset_name = FLUIDOS_DATASETS.BITBRAINS  # FLUIDOS_DATASETS.GCT\n",
    "model_type = MODEL_TYPES.CG  # MODEL_TYPES.FLUIDOS_RANKER\n",
    "augmentation = AUGMENTATION_TYPES.FEEDBACK_LOOP  # AUGMENTATION_TYPES.PERFORMANCE_RATING\n",
    "\n",
    "epochs = 5\n",
    "load_from_generated = 0\n",
    "test_mode = False\n",
    "max_pod = 2000\n",
    "tr_number = 50 # -1 for gct\n",
    "\n",
    "path_output_model = \"<INSERT_YOUR_PATH_HERE>\"\n",
    "path_output = \"<INSERT_YOUR_PATH_HERE>\"\n",
    "\n",
    "dataset_subset = \"rnd\"\n",
    "\n",
    "#DATASETS can be downloaded here: https://drive.google.com/drive/folders/13sNpT5ycd7XHPFcpEHEVQ1RtctMQADcK\n",
    "path_dataset_ml_ready = \"<INSERT_YOUR_PATH_HERE>\"\n",
    "# path_dataset_ml_ready = \"ibm_telefonica_dataset/\"\n",
    "\n",
    "MODEL_GLOBAL = \"model_global\"\n",
    "MODEL_GLOBAL_UPDATED = \"model_global_updated\"\n",
    "FED_MODELS_TRAINED = [MODEL_GLOBAL, \"model_B\", \"model_C\"]"
   ]
  },
  {
   "cell_type": "markdown",
   "metadata": {},
   "source": []
  },
  {
   "cell_type": "code",
   "execution_count": 6,
   "metadata": {
    "tags": []
   },
   "outputs": [],
   "source": [
    "def split_dataset(df: pd.DataFrame, model_names: list[str], model_source_name: str, train_ratio: float = 0.2, test_ratio: float = 0.05) -> dict[str, dict[str, Any]]:\n",
    "\n",
    "    manifests = df[[FLUIDOS_COL_NAMES.POD_FILE_NAME, FLUIDOS_COL_NAMES.POD_MANIFEST]]\n",
    "    counts = manifests[FLUIDOS_COL_NAMES.POD_MANIFEST].value_counts().to_dict()\n",
    "    # Estimation of pod manifests distribution\n",
    "    frequency_per_pod = []\n",
    "    for index, row in manifests.iterrows():\n",
    "        frequency_per_pod.append(counts[row[FLUIDOS_COL_NAMES.POD_MANIFEST]])\n",
    "\n",
    "    manifests.insert(2, \"frequency\", frequency_per_pod)\n",
    "    manifests = manifests.sort_values(by=\"frequency\", ascending=False)\n",
    "    manifests[\"frequency\"] = manifests[\"frequency\"] / len(manifests)\n",
    "    manifests.index = range(len(manifests.index))\n",
    "    manifests = manifests.reset_index()\n",
    "\n",
    "    manifests_size = len(manifests)\n",
    "\n",
    "    train_size = int(train_ratio * manifests_size)\n",
    "    test_size = int(test_ratio * manifests_size) \n",
    "    test_manifests = manifests.sample(test_size)\n",
    "\n",
    "    train_manifests = manifests[:train_size]\n",
    "    local_manifests = manifests[train_size:]\n",
    "\n",
    "    train_pods = df[df[FLUIDOS_COL_NAMES.POD_FILE_NAME].isin(train_manifests[FLUIDOS_COL_NAMES.POD_FILE_NAME])]\n",
    "    local_pods = df[df[FLUIDOS_COL_NAMES.POD_FILE_NAME].isin(local_manifests[FLUIDOS_COL_NAMES.POD_FILE_NAME])]\n",
    "    test_pods = df[df[FLUIDOS_COL_NAMES.POD_FILE_NAME].isin(test_manifests[FLUIDOS_COL_NAMES.POD_FILE_NAME])]\n",
    "    split_size = len(local_pods) // (len(model_names) - 1)\n",
    "    local_pods_chunks = [local_pods[i:i + split_size] for i in range(0, len(local_pods), split_size)]\n",
    "\n",
    "    model_attributes = {}\n",
    "    model_attributes[MODEL_GLOBAL] = {\"df_train\": train_pods, \"df_test\": test_pods}\n",
    "    for index, model_name in enumerate(model_names[1:]):\n",
    "        model_attributes[model_name] = {\"df_train\": local_pods_chunks[index],\n",
    "                                        \"df_test\": test_pods}\n",
    "            \n",
    "    return model_attributes"
   ]
  },
  {
   "cell_type": "markdown",
   "metadata": {},
   "source": [
    "## Preparing Datasets"
   ]
  },
  {
   "cell_type": "code",
   "execution_count": null,
   "metadata": {
    "tags": []
   },
   "outputs": [],
   "source": [
    "logging.info(\"Starting Model Building and Training\")\n",
    "\n",
    "ml_ready_dataset_path = Path(path_dataset_ml_ready)\n",
    "\n",
    "pods_assigment_df, template_resources_df = load_ml_ready_df(ml_ready_dataset_path)\n",
    "\n",
    "#TODO TMP - remove this when all tested \n",
    "# pods_assigment_df = pods_assigment_df[:10000]\n",
    "\n",
    "model_attributes = split_dataset(pods_assigment_df, FED_MODELS_TRAINED, MODEL_GLOBAL)"
   ]
  },
  {
   "cell_type": "markdown",
   "metadata": {},
   "source": [
    "pods_assigment_df## Setting up model Trainers"
   ]
  },
  {
   "cell_type": "code",
   "execution_count": 8,
   "metadata": {
    "tags": []
   },
   "outputs": [
    {
     "name": "stdout",
     "output_type": "stream",
     "text": [
      "Creating model trainer\n",
      "Preparing directories\n",
      "Creating model trainer\n",
      "Preparing directories\n",
      "Creating model trainer\n",
      "Preparing directories\n",
      "Subset shape 20000\n"
     ]
    },
    {
     "name": "stderr",
     "output_type": "stream",
     "text": [
      "Embeddings generation: 100%|███████████████████████████████████████████████████████████████████████████████████████████████████████████████████████| 157/157 [07:15<00:00,  2.77s/it]\n"
     ]
    },
    {
     "name": "stdout",
     "output_type": "stream",
     "text": [
      "Subset shape 5128\n"
     ]
    },
    {
     "name": "stderr",
     "output_type": "stream",
     "text": [
      "Embeddings generation: 100%|█████████████████████████████████████████████████████████████████████████████████████████████████████████████████████████| 41/41 [01:50<00:00,  2.69s/it]\n"
     ]
    },
    {
     "name": "stdout",
     "output_type": "stream",
     "text": [
      "Subset shape 40000\n"
     ]
    },
    {
     "name": "stderr",
     "output_type": "stream",
     "text": [
      "Embeddings generation: 100%|███████████████████████████████████████████████████████████████████████████████████████████████████████████████████████| 313/313 [14:14<00:00,  2.73s/it]\n"
     ]
    },
    {
     "name": "stdout",
     "output_type": "stream",
     "text": [
      "Subset shape 5128\n"
     ]
    },
    {
     "name": "stderr",
     "output_type": "stream",
     "text": [
      "Embeddings generation: 100%|█████████████████████████████████████████████████████████████████████████████████████████████████████████████████████████| 41/41 [01:51<00:00,  2.71s/it]\n"
     ]
    },
    {
     "name": "stdout",
     "output_type": "stream",
     "text": [
      "Subset shape 40000\n"
     ]
    },
    {
     "name": "stderr",
     "output_type": "stream",
     "text": [
      "Embeddings generation: 100%|███████████████████████████████████████████████████████████████████████████████████████████████████████████████████████| 313/313 [14:43<00:00,  2.82s/it]\n"
     ]
    },
    {
     "name": "stdout",
     "output_type": "stream",
     "text": [
      "Subset shape 5128\n"
     ]
    },
    {
     "name": "stderr",
     "output_type": "stream",
     "text": [
      "Embeddings generation: 100%|█████████████████████████████████████████████████████████████████████████████████████████████████████████████████████████| 41/41 [01:52<00:00,  2.75s/it]\n"
     ]
    }
   ],
   "source": [
    "if dataset_name == FLUIDOS_DATASETS.BITBRAINS:\n",
    "    total_pods = max_pod * tr_number\n",
    "else:\n",
    "    total_pods = max_pod\n",
    "    \n",
    "for model_name in FED_MODELS_TRAINED:\n",
    "    model_trainer = ModelTrainerFactory.create_model_trainer(model_type,\n",
    "                                                             ml_ready_dataset_path,\n",
    "                                                             Path(path_output).joinpath(\"model_training\"),\n",
    "                                                             max_pod=total_pods,\n",
    "                                                             epochs=epochs,\n",
    "                                                             target_column=get_target_column(augmentation),\n",
    "                                                             load_from_generated=load_from_generated,\n",
    "                                                             model_name=model_name)\n",
    "    model_trainer.prepare_directories()\n",
    "    model_attributes[model_name][\"trainer\"] = model_trainer\n",
    "\n",
    "for model_name in FED_MODELS_TRAINED:\n",
    "    TRAINING_RATIO = 1.0\n",
    "    cached_train = model_attributes[model_name][\"trainer\"].prepare_dataset(model_attributes[model_name]['df_train'],\n",
    "                                                                           template_resources_df, test_mode,\n",
    "                                                                           training_size_ratio=TRAINING_RATIO,\n",
    "                                                                           model_tag=model_name, dataset_type=\"train\")\n",
    "    cached_test = model_attributes[model_name][\"trainer\"].prepare_dataset(model_attributes[model_name]['df_test'],\n",
    "                                                                          template_resources_df, test_mode,\n",
    "                                                                          training_size_ratio=TRAINING_RATIO,\n",
    "                                                                          model_tag=model_name, dataset_type=\"test\")\n",
    "    model_attributes[model_name][\"trainer\"].cached_train = cached_train\n",
    "    model_attributes[model_name][\"trainer\"].cached_test = cached_test"
   ]
  },
  {
   "cell_type": "markdown",
   "metadata": {},
   "source": [
    "## Training Global model"
   ]
  },
  {
   "cell_type": "code",
   "execution_count": 9,
   "metadata": {
    "tags": []
   },
   "outputs": [
    {
     "name": "stdout",
     "output_type": "stream",
     "text": [
      "Training...\n"
     ]
    },
    {
     "name": "stderr",
     "output_type": "stream",
     "text": [
      "Epoch 0: 100%|████████████████████████████████████████████████████████████████████████████████████████████████████████| 2500/2500 [00:24<00:00, 102.92batch/s, accuracy=1, loss=2.98]\n"
     ]
    },
    {
     "name": "stdout",
     "output_type": "stream",
     "text": [
      "Epoch 0, train loss 3.077 Accuracy 0.9 LR: [0.0001]\n"
     ]
    },
    {
     "name": "stderr",
     "output_type": "stream",
     "text": [
      "(val) Epoch 0:   0%|                                                                                                      | 0/641 [00:03<?, ?batch/s, v_accuracy=0.12, val_loss=3.82]\n"
     ]
    },
    {
     "name": "stdout",
     "output_type": "stream",
     "text": [
      "Epoch 0, val loss 3.4441 Accuracy 0.5\n",
      "Current minimal val loss is 3.444092375625872.\n"
     ]
    },
    {
     "name": "stderr",
     "output_type": "stream",
     "text": [
      "Epoch 1: 100%|████████████████████████████████████████████████████████████████████████████████████████████████████████| 2500/2500 [00:21<00:00, 113.66batch/s, accuracy=1, loss=2.95]\n"
     ]
    },
    {
     "name": "stdout",
     "output_type": "stream",
     "text": [
      "Epoch 1, train loss 2.9703 Accuracy 0.98 LR: [0.0001]\n"
     ]
    },
    {
     "name": "stderr",
     "output_type": "stream",
     "text": [
      "(val) Epoch 1:   0%|                                                                                                      | 0/641 [00:02<?, ?batch/s, v_accuracy=0.38, val_loss=3.57]\n"
     ]
    },
    {
     "name": "stdout",
     "output_type": "stream",
     "text": [
      "Epoch 1, val loss 3.4058 Accuracy 0.54\n",
      "Current minimal val loss is 3.4058146495343.\n"
     ]
    },
    {
     "name": "stderr",
     "output_type": "stream",
     "text": [
      "Epoch 2: 100%|████████████████████████████████████████████████████████████████████████████████████████████████████████| 2500/2500 [00:20<00:00, 119.28batch/s, accuracy=1, loss=2.95]\n"
     ]
    },
    {
     "name": "stdout",
     "output_type": "stream",
     "text": [
      "Epoch 2, train loss 2.971 Accuracy 0.98 LR: [1e-05]\n"
     ]
    },
    {
     "name": "stderr",
     "output_type": "stream",
     "text": [
      "(val) Epoch 2:   0%|                                                                                                       | 0/641 [00:02<?, ?batch/s, v_accuracy=0.5, val_loss=3.45]\n"
     ]
    },
    {
     "name": "stdout",
     "output_type": "stream",
     "text": [
      "Epoch 2, val loss 3.3704 Accuracy 0.58\n",
      "Current minimal val loss is 3.370446137816597.\n"
     ]
    },
    {
     "name": "stderr",
     "output_type": "stream",
     "text": [
      "Epoch 3: 100%|████████████████████████████████████████████████████████████████████████████████████████████████████████| 2500/2500 [00:21<00:00, 114.15batch/s, accuracy=1, loss=2.95]\n"
     ]
    },
    {
     "name": "stdout",
     "output_type": "stream",
     "text": [
      "Epoch 3, train loss 2.9666 Accuracy 0.98 LR: [1e-05]\n"
     ]
    },
    {
     "name": "stderr",
     "output_type": "stream",
     "text": [
      "(val) Epoch 3:   0%|                                                                                                       | 0/641 [00:02<?, ?batch/s, v_accuracy=0.5, val_loss=3.44]\n"
     ]
    },
    {
     "name": "stdout",
     "output_type": "stream",
     "text": [
      "Epoch 3, val loss 3.3703 Accuracy 0.58\n",
      "Current minimal val loss is 3.3703340353348326.\n"
     ]
    },
    {
     "name": "stderr",
     "output_type": "stream",
     "text": [
      "Epoch 4: 100%|████████████████████████████████████████████████████████████████████████████████████████████████████████| 2500/2500 [00:18<00:00, 132.76batch/s, accuracy=1, loss=2.95]\n"
     ]
    },
    {
     "name": "stdout",
     "output_type": "stream",
     "text": [
      "Epoch 4, train loss 2.9665 Accuracy 0.98 LR: [1e-05]\n"
     ]
    },
    {
     "name": "stderr",
     "output_type": "stream",
     "text": [
      "(val) Epoch 4:   0%|                                                                                                      | 0/641 [00:05<?, ?batch/s, v_accuracy=0.25, val_loss=3.69]\n"
     ]
    },
    {
     "name": "stdout",
     "output_type": "stream",
     "text": [
      "Epoch 4, val loss 3.3641 Accuracy 0.58\n",
      "Current minimal val loss is 3.3640768219267896.\n",
      "(\"Evaluation results: {'total_loss': 3.3640768219267896, 'accuracy': \"\n",
      " '0.5815132605304212}')\n"
     ]
    }
   ],
   "source": [
    "\n",
    "model_attributes[MODEL_GLOBAL][\"trainer\"].build_model()\n",
    "model_attributes[MODEL_GLOBAL][\"trainer\"].check_model_dataset_depencies()\n",
    "model_attributes[MODEL_GLOBAL][\"trainer\"].train_model()\n",
    "model_attributes[MODEL_GLOBAL][\"eval_results\"] = model_attributes[MODEL_GLOBAL][\"trainer\"].evaluate()\n",
    "\n",
    "for model_name in FED_MODELS_TRAINED:\n",
    "    if model_name == MODEL_GLOBAL:\n",
    "        continue\n",
    "    shutil.copytree(model_attributes[MODEL_GLOBAL][\"trainer\"].checkpoint_path.parent.parent.parent, model_attributes[model_name][\"trainer\"].checkpoint_path.parent.parent.parent, dirs_exist_ok=True)"
   ]
  },
  {
   "cell_type": "markdown",
   "metadata": {},
   "source": [
    "## Training Child Models from Global Model"
   ]
  },
  {
   "cell_type": "code",
   "execution_count": 10,
   "metadata": {
    "tags": []
   },
   "outputs": [
    {
     "name": "stdout",
     "output_type": "stream",
     "text": [
      "model_B\n",
      "Training...\n"
     ]
    },
    {
     "name": "stderr",
     "output_type": "stream",
     "text": [
      "Epoch 0: 100%|██████████████████████████████████████████████████████████████████████████████████████████████████████| 5000/5000 [00:40<00:00, 122.98batch/s, accuracy=0.5, loss=3.44]\n"
     ]
    },
    {
     "name": "stdout",
     "output_type": "stream",
     "text": [
      "Epoch 0, train loss 3.309 Accuracy 0.64 LR: [0.0001]\n"
     ]
    },
    {
     "name": "stderr",
     "output_type": "stream",
     "text": [
      "(val) Epoch 0:   0%|                                                                                                      | 0/641 [00:02<?, ?batch/s, v_accuracy=0.88, val_loss=3.08]\n"
     ]
    },
    {
     "name": "stdout",
     "output_type": "stream",
     "text": [
      "Epoch 0, val loss 3.3194 Accuracy 0.63\n",
      "Current minimal val loss is 3.3194088742439165.\n"
     ]
    },
    {
     "name": "stderr",
     "output_type": "stream",
     "text": [
      "Epoch 1: 100%|█████████████████████████████████████████████████████████████████████████████████████████████████████| 5000/5000 [00:41<00:00, 119.17batch/s, accuracy=0.88, loss=3.07]\n"
     ]
    },
    {
     "name": "stdout",
     "output_type": "stream",
     "text": [
      "Epoch 1, train loss 3.2098 Accuracy 0.74 LR: [0.0001]\n"
     ]
    },
    {
     "name": "stderr",
     "output_type": "stream",
     "text": [
      "(val) Epoch 1:   0%|                                                                                                      | 0/641 [00:03<?, ?batch/s, v_accuracy=0.75, val_loss=3.19]\n"
     ]
    },
    {
     "name": "stdout",
     "output_type": "stream",
     "text": [
      "Epoch 1, val loss 3.1512 Accuracy 0.79\n",
      "Current minimal val loss is 3.1511867436901455.\n"
     ]
    },
    {
     "name": "stderr",
     "output_type": "stream",
     "text": [
      "Epoch 2: 100%|█████████████████████████████████████████████████████████████████████████████████████████████████████| 5000/5000 [00:42<00:00, 117.80batch/s, accuracy=0.88, loss=3.07]\n"
     ]
    },
    {
     "name": "stdout",
     "output_type": "stream",
     "text": [
      "Epoch 2, train loss 3.1983 Accuracy 0.75 LR: [1e-05]\n"
     ]
    },
    {
     "name": "stderr",
     "output_type": "stream",
     "text": [
      "(val) Epoch 2:   0%|                                                                                                      | 0/641 [00:03<?, ?batch/s, v_accuracy=0.88, val_loss=3.07]\n"
     ]
    },
    {
     "name": "stdout",
     "output_type": "stream",
     "text": [
      "Epoch 2, val loss 3.1632 Accuracy 0.78\n"
     ]
    },
    {
     "name": "stderr",
     "output_type": "stream",
     "text": [
      "Epoch 3: 100%|█████████████████████████████████████████████████████████████████████████████████████████████████████| 5000/5000 [00:42<00:00, 117.07batch/s, accuracy=0.62, loss=3.32]\n"
     ]
    },
    {
     "name": "stdout",
     "output_type": "stream",
     "text": [
      "Epoch 3, train loss 3.1887 Accuracy 0.76 LR: [1e-05]\n"
     ]
    },
    {
     "name": "stderr",
     "output_type": "stream",
     "text": [
      "(val) Epoch 3:   0%|                                                                                                      | 0/641 [00:02<?, ?batch/s, v_accuracy=0.88, val_loss=3.07]\n"
     ]
    },
    {
     "name": "stdout",
     "output_type": "stream",
     "text": [
      "Epoch 3, val loss 3.1631 Accuracy 0.78\n"
     ]
    },
    {
     "name": "stderr",
     "output_type": "stream",
     "text": [
      "Epoch 4: 100%|█████████████████████████████████████████████████████████████████████████████████████████████████████| 5000/5000 [00:41<00:00, 119.53batch/s, accuracy=0.75, loss=3.19]\n"
     ]
    },
    {
     "name": "stdout",
     "output_type": "stream",
     "text": [
      "Epoch 4, train loss 3.1885 Accuracy 0.76 LR: [1e-05]\n"
     ]
    },
    {
     "name": "stderr",
     "output_type": "stream",
     "text": [
      "(val) Epoch 4:   0%|                                                                                                       | 0/641 [00:02<?, ?batch/s, v_accuracy=0.5, val_loss=3.44]\n"
     ]
    },
    {
     "name": "stdout",
     "output_type": "stream",
     "text": [
      "Epoch 4, val loss 3.1622 Accuracy 0.78\n",
      "(\"Evaluation results: {'total_loss': 3.16215557873528, 'accuracy': \"\n",
      " '0.7825663026521061}')\n",
      "model_C\n",
      "Training...\n"
     ]
    },
    {
     "name": "stderr",
     "output_type": "stream",
     "text": [
      "Epoch 0: 100%|██████████████████████████████████████████████████████████████████████████████████████████████████████| 5000/5000 [00:41<00:00, 120.99batch/s, accuracy=0.75, loss=3.2]\n"
     ]
    },
    {
     "name": "stdout",
     "output_type": "stream",
     "text": [
      "Epoch 0, train loss 3.3199 Accuracy 0.63 LR: [0.0001]\n"
     ]
    },
    {
     "name": "stderr",
     "output_type": "stream",
     "text": [
      "(val) Epoch 0:   0%|                                                                                                       | 0/641 [00:02<?, ?batch/s, v_accuracy=0.5, val_loss=3.45]\n"
     ]
    },
    {
     "name": "stdout",
     "output_type": "stream",
     "text": [
      "Epoch 0, val loss 3.3073 Accuracy 0.64\n",
      "Current minimal val loss is 3.3072839817279216.\n"
     ]
    },
    {
     "name": "stderr",
     "output_type": "stream",
     "text": [
      "Epoch 1: 100%|█████████████████████████████████████████████████████████████████████████████████████████████████████| 5000/5000 [00:43<00:00, 113.91batch/s, accuracy=0.62, loss=3.32]\n"
     ]
    },
    {
     "name": "stdout",
     "output_type": "stream",
     "text": [
      "Epoch 1, train loss 3.2537 Accuracy 0.69 LR: [0.0001]\n"
     ]
    },
    {
     "name": "stderr",
     "output_type": "stream",
     "text": [
      "(val) Epoch 1:   0%|                                                                                                      | 0/641 [00:02<?, ?batch/s, v_accuracy=0.62, val_loss=3.32]\n"
     ]
    },
    {
     "name": "stdout",
     "output_type": "stream",
     "text": [
      "Epoch 1, val loss 3.3054 Accuracy 0.64\n",
      "Current minimal val loss is 3.3053760681063076.\n"
     ]
    },
    {
     "name": "stderr",
     "output_type": "stream",
     "text": [
      "Epoch 2: 100%|██████████████████████████████████████████████████████████████████████████████████████████████████████| 5000/5000 [00:41<00:00, 120.74batch/s, accuracy=0.75, loss=3.2]\n"
     ]
    },
    {
     "name": "stdout",
     "output_type": "stream",
     "text": [
      "Epoch 2, train loss 3.2691 Accuracy 0.68 LR: [1e-05]\n"
     ]
    },
    {
     "name": "stderr",
     "output_type": "stream",
     "text": [
      "(val) Epoch 2:   0%|                                                                                                      | 0/641 [00:02<?, ?batch/s, v_accuracy=0.88, val_loss=3.07]\n"
     ]
    },
    {
     "name": "stdout",
     "output_type": "stream",
     "text": [
      "Epoch 2, val loss 3.2976 Accuracy 0.65\n",
      "Current minimal val loss is 3.2976172067073874.\n"
     ]
    },
    {
     "name": "stderr",
     "output_type": "stream",
     "text": [
      "Epoch 3: 100%|█████████████████████████████████████████████████████████████████████████████████████████████████████| 5000/5000 [00:37<00:00, 134.76batch/s, accuracy=0.75, loss=3.19]\n"
     ]
    },
    {
     "name": "stdout",
     "output_type": "stream",
     "text": [
      "Epoch 3, train loss 3.2499 Accuracy 0.7 LR: [1e-05]\n"
     ]
    },
    {
     "name": "stderr",
     "output_type": "stream",
     "text": [
      "(val) Epoch 3:   0%|                                                                                                      | 0/641 [00:02<?, ?batch/s, v_accuracy=0.62, val_loss=3.32]\n"
     ]
    },
    {
     "name": "stdout",
     "output_type": "stream",
     "text": [
      "Epoch 3, val loss 3.2951 Accuracy 0.65\n",
      "Current minimal val loss is 3.295143904068541.\n"
     ]
    },
    {
     "name": "stderr",
     "output_type": "stream",
     "text": [
      "Epoch 4: 100%|█████████████████████████████████████████████████████████████████████████████████████████████████████| 5000/5000 [00:43<00:00, 116.10batch/s, accuracy=0.88, loss=3.07]\n"
     ]
    },
    {
     "name": "stdout",
     "output_type": "stream",
     "text": [
      "Epoch 4, train loss 3.207 Accuracy 0.74 LR: [1e-05]\n"
     ]
    },
    {
     "name": "stderr",
     "output_type": "stream",
     "text": [
      "(val) Epoch 4:   0%|                                                                                                      | 0/641 [00:03<?, ?batch/s, v_accuracy=0.88, val_loss=3.07]\n"
     ]
    },
    {
     "name": "stdout",
     "output_type": "stream",
     "text": [
      "Epoch 4, val loss 3.2132 Accuracy 0.73\n",
      "Current minimal val loss is 3.213155750923335.\n",
      "(\"Evaluation results: {'total_loss': 3.213155750923335, 'accuracy': \"\n",
      " '0.7326443057722309}')\n"
     ]
    }
   ],
   "source": [
    "for model_name in FED_MODELS_TRAINED:\n",
    "    if model_name == MODEL_GLOBAL:\n",
    "        continue\n",
    "    print(model_name)\n",
    "    model_attributes[model_name][\"trainer\"].load_model(load_from_checkpoint=True)  # type: ignore\n",
    "    model_attributes[model_name][\"trainer\"].train_model()\n",
    "    model_attributes[model_name][\"eval_results\"] = model_attributes[model_name][\"trainer\"].evaluate()\n",
    "\n",
    "logging.info(\"MODELS Evaluation Results\")\n",
    "for model_name in FED_MODELS_TRAINED:\n",
    "    if \"eval_results\" in model_attributes[model_name]:\n",
    "        logging.info(f\"MODEL: {model_name}: {model_attributes[model_name]['eval_results']}\")\n",
    "\n",
    "logging.info(f\"Pipeline output located at: {path_output_model}\")\n"
   ]
  },
  {
   "cell_type": "markdown",
   "metadata": {},
   "source": [
    "## Federated Learning POC\n",
    "\n",
    "Idea: send averaged updates from model_B(Mb) and model_C(Mc) to update the model_global (Ms -> Ms')."
   ]
  },
  {
   "cell_type": "code",
   "execution_count": 15,
   "metadata": {},
   "outputs": [],
   "source": [
    "FED_MODELS_TRAINED.append(MODEL_GLOBAL_UPDATED)"
   ]
  },
  {
   "cell_type": "code",
   "execution_count": 17,
   "metadata": {
    "tags": []
   },
   "outputs": [],
   "source": [
    "# Generation of averaged local model updates\n",
    "model_source_weights = model_attributes[MODEL_GLOBAL][\"trainer\"].orchestrator.state_dict().values()\n",
    "model_B_weights = model_attributes['model_B'][\"trainer\"].orchestrator.state_dict().values()\n",
    "model_C_weights = model_attributes['model_C'][\"trainer\"].orchestrator.state_dict().values()\n",
    "\n",
    "model_b_s_update = [(x - y) for x, y in zip(model_B_weights, model_source_weights)]\n",
    "model_c_s_update = [(x - y) for x, y in zip(model_C_weights, model_source_weights)]\n",
    "averaged_update = [0.5*(x + y) for x, y in zip(model_b_s_update, model_c_s_update)]\n",
    "# updated weights: Ms’ = Ms + 0.5*((Ms-Mb) + (Ms-Mc))\n",
    "model_global_weights = [x + y for x, y in zip(averaged_update, model_source_weights)]\n"
   ]
  },
  {
   "cell_type": "code",
   "execution_count": 26,
   "metadata": {},
   "outputs": [
    {
     "name": "stdout",
     "output_type": "stream",
     "text": [
      "Creating model trainer\n",
      "Preparing directories\n"
     ]
    },
    {
     "data": {
      "text/plain": [
       "OrchestrationModel(\n",
       "  (config_embedding): Embedding(50, 8)\n",
       "  (config_embedding_dropout): Dropout(p=0.2, inplace=False)\n",
       "  (pod_embedding): Embedding(119547, 512)\n",
       "  (embedding_aggregator): EmbeddingAggregation()\n",
       "  (linear1): Linear(in_features=528, out_features=1024, bias=True)\n",
       "  (activation1): ReLU(inplace=True)\n",
       "  (batch_norm1): BatchNorm1d(1024, eps=1e-05, momentum=0.1, affine=True, track_running_stats=True)\n",
       "  (dropout1): Dropout(p=0.7, inplace=False)\n",
       "  (fc_layer1): Sequential(\n",
       "    (0): Linear(in_features=528, out_features=1024, bias=True)\n",
       "    (1): ReLU(inplace=True)\n",
       "    (2): BatchNorm1d(1024, eps=1e-05, momentum=0.1, affine=True, track_running_stats=True)\n",
       "    (3): Dropout(p=0.7, inplace=False)\n",
       "  )\n",
       "  (linear2): Linear(in_features=1024, out_features=512, bias=True)\n",
       "  (activation2): ReLU(inplace=True)\n",
       "  (batch_norm2): BatchNorm1d(512, eps=1e-05, momentum=0.1, affine=True, track_running_stats=True)\n",
       "  (dropout2): Dropout(p=0.35, inplace=False)\n",
       "  (fc_layer2): Sequential(\n",
       "    (0): Linear(in_features=1024, out_features=512, bias=True)\n",
       "    (1): ReLU(inplace=True)\n",
       "    (2): BatchNorm1d(512, eps=1e-05, momentum=0.1, affine=True, track_running_stats=True)\n",
       "    (3): Dropout(p=0.35, inplace=False)\n",
       "  )\n",
       "  (linear3): Linear(in_features=512, out_features=512, bias=True)\n",
       "  (activation3): ReLU(inplace=True)\n",
       "  (batch_norm): BatchNorm1d(512, eps=1e-05, momentum=0.1, affine=True, track_running_stats=True)\n",
       "  (dropout3): Dropout(p=0.35, inplace=False)\n",
       "  (fc_layer3): Sequential(\n",
       "    (0): Linear(in_features=512, out_features=512, bias=True)\n",
       "    (1): ReLU(inplace=True)\n",
       "    (2): BatchNorm1d(512, eps=1e-05, momentum=0.1, affine=True, track_running_stats=True)\n",
       "    (3): Dropout(p=0.35, inplace=False)\n",
       "  )\n",
       "  (head): Linear(in_features=512, out_features=50, bias=True)\n",
       ")"
      ]
     },
     "execution_count": 26,
     "metadata": {},
     "output_type": "execute_result"
    }
   ],
   "source": [
    "# Creation of the Global model object\n",
    "model_attributes[MODEL_GLOBAL_UPDATED] = {}\n",
    "model_attributes[MODEL_GLOBAL_UPDATED][\"trainer\"] = ModelTrainerFactory.create_model_trainer(model_type,\n",
    "                                                                                             ml_ready_dataset_path,\n",
    "                                                                                             Path(path_output).joinpath(\"model_training\"),\n",
    "                                                                                             max_pod=total_pods,\n",
    "                                                                                             epochs=epochs,\n",
    "                                                                                             target_column=get_target_column(augmentation),\n",
    "                                                                                             load_from_generated=True,\n",
    "                                                                                             model_name=MODEL_GLOBAL_UPDATED)\n",
    "model_attributes[MODEL_GLOBAL_UPDATED][\"trainer\"].prepare_directories()\n",
    "model_attributes[MODEL_GLOBAL_UPDATED][\"df_train\"] = model_attributes[MODEL_GLOBAL][\"df_train\"].copy()\n",
    "model_attributes[MODEL_GLOBAL_UPDATED][\"df_test\"] = model_attributes[MODEL_GLOBAL][\"df_test\"].copy()\n",
    "shutil.copytree(model_attributes[MODEL_GLOBAL][\"trainer\"].checkpoint_path.parent.parent.parent, model_attributes[MODEL_GLOBAL_UPDATED][\"trainer\"].checkpoint_path.parent.parent.parent, dirs_exist_ok=True)\n",
    "\n",
    "TRAINING_RATIO = 1.0\n",
    "cached_train = model_attributes[MODEL_GLOBAL_UPDATED][\"trainer\"].prepare_dataset(model_attributes[MODEL_GLOBAL]['df_train'],\n",
    "                                                                                 template_resources_df, test_mode,\n",
    "                                                                                 training_size_ratio=TRAINING_RATIO,\n",
    "                                                                                 model_tag=MODEL_GLOBAL, dataset_type=\"train\")\n",
    "cached_test = model_attributes[MODEL_GLOBAL_UPDATED][\"trainer\"].prepare_dataset(model_attributes[MODEL_GLOBAL]['df_test'],\n",
    "                                                                                template_resources_df, test_mode,\n",
    "                                                                                training_size_ratio=TRAINING_RATIO,\n",
    "                                                                                model_tag=MODEL_GLOBAL, dataset_type=\"test\")\n",
    "model_attributes[model_name][\"trainer\"].cached_train = cached_train\n",
    "model_attributes[model_name][\"trainer\"].cached_test = cached_test\n",
    "    \n",
    "    \n",
    "model_attributes[MODEL_GLOBAL_UPDATED][\"trainer\"].build_model()"
   ]
  },
  {
   "cell_type": "code",
   "execution_count": 27,
   "metadata": {
    "tags": []
   },
   "outputs": [
    {
     "name": "stderr",
     "output_type": "stream",
     "text": [
      "(val) Epoch 0:   0%|                                                                                                       | 0/641 [00:02<?, ?batch/s, v_accuracy=0.75, val_loss=3.2]"
     ]
    },
    {
     "name": "stdout",
     "output_type": "stream",
     "text": [
      "(\"Evaluation results: {'total_loss': 3.1892022112044454, 'accuracy': \"\n",
      " '0.7568252730109204}')\n"
     ]
    },
    {
     "name": "stderr",
     "output_type": "stream",
     "text": [
      "\n"
     ]
    }
   ],
   "source": [
    "# load the updated model weights Ms' and evluate the model with the common test subset\n",
    "from collections import OrderedDict\n",
    "\n",
    "model_global_weights_dict = {}\n",
    "index = 0\n",
    "for key in model_attributes[MODEL_GLOBAL_UPDATED][\"trainer\"].orchestrator.state_dict():\n",
    "    model_global_weights_dict[key] = model_global_weights[index]\n",
    "    index += 1\n",
    "model_attributes[MODEL_GLOBAL_UPDATED][\"trainer\"].orchestrator.load_state_dict(OrderedDict(model_global_weights_dict))    \n",
    "model_attributes[MODEL_GLOBAL_UPDATED][\"trainer\"].orchestrator.eval()\n",
    "\n",
    "model_attributes[MODEL_GLOBAL_UPDATED][\"trainer\"].validate_model()\n",
    "model_attributes[MODEL_GLOBAL_UPDATED][\"eval_results\"] = model_attributes[MODEL_GLOBAL_UPDATED][\"trainer\"].evaluate()"
   ]
  },
  {
   "cell_type": "markdown",
   "metadata": {},
   "source": [
    "## Evaluation"
   ]
  },
  {
   "cell_type": "code",
   "execution_count": 28,
   "metadata": {},
   "outputs": [
    {
     "data": {
      "text/html": [
       "<div>\n",
       "<style scoped>\n",
       "    .dataframe tbody tr th:only-of-type {\n",
       "        vertical-align: middle;\n",
       "    }\n",
       "\n",
       "    .dataframe tbody tr th {\n",
       "        vertical-align: top;\n",
       "    }\n",
       "\n",
       "    .dataframe thead th {\n",
       "        text-align: right;\n",
       "    }\n",
       "</style>\n",
       "<table border=\"1\" class=\"dataframe\">\n",
       "  <thead>\n",
       "    <tr style=\"text-align: right;\">\n",
       "      <th></th>\n",
       "      <th>model_global</th>\n",
       "      <th>model_B</th>\n",
       "      <th>model_C</th>\n",
       "      <th>model_global_updated</th>\n",
       "    </tr>\n",
       "  </thead>\n",
       "  <tbody>\n",
       "    <tr>\n",
       "      <th>accuracy</th>\n",
       "      <td>0.581513</td>\n",
       "      <td>0.782566</td>\n",
       "      <td>0.732644</td>\n",
       "      <td>0.756825</td>\n",
       "    </tr>\n",
       "    <tr>\n",
       "      <th>total_loss</th>\n",
       "      <td>3.364077</td>\n",
       "      <td>3.162156</td>\n",
       "      <td>3.213156</td>\n",
       "      <td>3.189202</td>\n",
       "    </tr>\n",
       "  </tbody>\n",
       "</table>\n",
       "</div>"
      ],
      "text/plain": [
       "           model_global   model_B   model_C model_global_updated\n",
       "accuracy       0.581513  0.782566  0.732644             0.756825\n",
       "total_loss     3.364077  3.162156  3.213156             3.189202"
      ]
     },
     "execution_count": 28,
     "metadata": {},
     "output_type": "execute_result"
    }
   ],
   "source": [
    "if model_type == MODEL_TYPES.CG:\n",
    "    results_df = pd.DataFrame(index=['accuracy', 'total_loss'], columns=FED_MODELS_TRAINED)\n",
    "\n",
    "    for model_name in FED_MODELS_TRAINED:\n",
    "        for metric, value in model_attributes[model_name][\"eval_results\"].items():\n",
    "            results_df.loc[metric, model_name] = value\n",
    "elif MODEL_TYPES.FLUIDOS_RANKER:\n",
    "    results_df = pd.DataFrame(index=['root_mean_squared_error','loss','regularization_loss','total_loss'], columns=FED_MODELS_TRAINED)\n",
    "\n",
    "    for model_name in FED_MODELS_TRAINED:\n",
    "        for metric, value in model_attributes[model_name][\"eval_results\"].items():\n",
    "            results_df.loc[metric, model_name] = value\n",
    "\n",
    "results_df"
   ]
  },
  {
   "cell_type": "code",
   "execution_count": 29,
   "metadata": {
    "tags": []
   },
   "outputs": [
    {
     "data": {
      "image/png": "[encoded data removed]",
      "text/plain": [
       "<Figure size 1000x600 with 1 Axes>"
      ]
     },
     "metadata": {},
     "output_type": "display_data"
    }
   ],
   "source": [
    "%matplotlib inline\n",
    "\n",
    "\n",
    "plt.figure(figsize=(10, 6))\n",
    "\n",
    "\n",
    "\n",
    "bar_width = 0.2\n",
    "bar_positions = np.arange(len(results_df.columns))\n",
    "\n",
    "\n",
    "for i, index in enumerate(results_df.index):\n",
    "    plt.bar(\n",
    "        bar_positions + i * bar_width,\n",
    "        results_df.loc[index],\n",
    "        width=bar_width,\n",
    "        label=index\n",
    "    )\n",
    "\n",
    "plt.xlabel('Models')\n",
    "plt.ylabel('Metrics')\n",
    "plt.title('Model Performance')\n",
    "plt.xticks(bar_positions + bar_width, results_df.columns)\n",
    "plt.legend(title='Indices', loc='lower right')\n",
    "\n",
    "plt.show()\n"
   ]
  }
 ],
 "metadata": {
  "kernelspec": {
   "display_name": "Python 3 (ipykernel)",
   "language": "python",
   "name": "python3"
  },
  "language_info": {
   "codemirror_mode": {
    "name": "ipython",
    "version": 3
   },
   "file_extension": ".py",
   "mimetype": "text/x-python",
   "name": "python",
   "nbconvert_exporter": "python",
   "pygments_lexer": "ipython3",
   "version": "3.11.9"
  }
 },
 "nbformat": 4,
 "nbformat_minor": 4
}
