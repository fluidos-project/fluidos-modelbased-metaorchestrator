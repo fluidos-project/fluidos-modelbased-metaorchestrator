{
 "cells": [
  {
   "cell_type": "code",
   "metadata": {
    "ExecuteTime": {
     "end_time": "2025-04-24T15:42:01.113814Z",
     "start_time": "2025-04-24T15:42:01.110963Z"
    }
   },
   "source": [
    "import sys\n",
    "\n",
    "#!{sys.executable} -m pip install -r ../requirements-dev.txt  # to install the orchestrator package\n",
    "#!{sys.executable} -m pip install -U ../.  # to install the orchestra\n",
    "#!{sys.executable} -m pip uninstall huggingface-hub --yes\n",
    "#!{sys.executable} -m pip uninstall transformers --yes\n",
    "#!{sys.executable} -m pip install huggingface-hub==0.30.0\n",
    "#!{sys.executable} -m pip install transformers --upgrade\n",
    "#!{sys.executable} -m pip install huggingface-hub==0.21.4\n",
    "#!{sys.executable} -m pip install transformers==4.40.2\n",
    "#!{sys.executable} -m pip install sentence-transformers==2.2.2\n",
    "\n",
    "#!{sys.executable} -m pip install -r ../david_reqs.txt"
   ],
   "outputs": [],
   "execution_count": 1
  },
  {
   "cell_type": "code",
   "metadata": {
    "tags": [],
    "ExecuteTime": {
     "end_time": "2025-04-24T15:39:34.085424Z",
     "start_time": "2025-04-24T15:39:34.082229Z"
    }
   },
   "source": [
    "\n",
    "# %pip install ipywidgets --upgrade\n",
    "# %pip install -r ../requirements-dev.txt  # to install the orchestrator package\n",
    "# %pip install -U ../.  # to install the orchestra\n",
    "# tor package"
   ],
   "outputs": [],
   "execution_count": 16
  },
  {
   "cell_type": "markdown",
   "metadata": {},
   "source": []
  },
  {
   "cell_type": "code",
   "metadata": {
    "tags": [],
    "ExecuteTime": {
     "end_time": "2025-04-25T09:01:30.486806Z",
     "start_time": "2025-04-25T09:01:30.480323Z"
    }
   },
   "source": [
    "import os\n",
    "from pathlib import Path\n",
    "import sys\n",
    "base_path = Path(os.path.abspath(\"\")).parent\n",
    "sys.path.append(base_path.as_posix())\n",
    "base_path.as_posix()"
   ],
   "outputs": [
    {
     "data": {
      "text/plain": [
       "'/Users/id05358/Documents/Project/FLUIDOS/fluidos-modelbased-metaorchestrator'"
      ]
     },
     "execution_count": 1,
     "metadata": {},
     "output_type": "execute_result"
    }
   ],
   "execution_count": 1
  },
  {
   "cell_type": "code",
   "metadata": {
    "tags": [],
    "ExecuteTime": {
     "end_time": "2025-04-25T09:01:38.927371Z",
     "start_time": "2025-04-25T09:01:31.209148Z"
    }
   },
   "source": [
    "import logging\n",
    "import random\n",
    "import shutil\n",
    "from pathlib import Path\n",
    "from typing import Any\n",
    "import os\n",
    "\n",
    "import numpy as np  # type: ignore\n",
    "import pandas as pd # type: ignore\n",
    "import tensorflow as tf  # type: ignore\n",
    "import torch  # type: ignore\n",
    "import matplotlib.pyplot as plt\n",
    "\n",
    "from fluidos_model_orchestrator.data_pipeline.augmentation.augmentation_utils import AUGMENTATION_TYPES\n",
    "from fluidos_model_orchestrator.data_pipeline.data_util import FLUIDOS_DATASETS\n",
    "from fluidos_model_orchestrator.data_pipeline.data_util import get_target_column\n",
    "from fluidos_model_orchestrator.data_pipeline.data_util import load_ml_ready_df\n",
    "from fluidos_model_orchestrator.model.utils import MODEL_TYPES\n",
    "from fluidos_model_orchestrator.model_pipeline.model_trainer_factory import ModelTrainerFactory\n",
    "from fluidos_model_orchestrator.model.utils import FLUIDOS_COL_NAMES\n",
    "\n",
    "import ipywidgets as widgets\n",
    "widgets.IntSlider()\n",
    "\n",
    "tf.random.set_seed(42)\n",
    "torch.manual_seed(42)\n",
    "random.seed(42)"
   ],
   "outputs": [],
   "execution_count": 2
  },
  {
   "cell_type": "markdown",
   "metadata": {},
   "source": [
    "## Hyperparameters"
   ]
  },
  {
   "cell_type": "code",
   "metadata": {
    "tags": [],
    "ExecuteTime": {
     "end_time": "2025-04-25T09:01:38.932087Z",
     "start_time": "2025-04-25T09:01:38.929578Z"
    }
   },
   "source": [
    "ROOT_DIR = Path(os.getcwd()).parent.parent\n",
    "\n",
    "platform = \"ccc\"  # \"local\"\n",
    "dataset_name = FLUIDOS_DATASETS.BITBRAINS  # FLUIDOS_DATASETS.GCT\n",
    "model_type = MODEL_TYPES.CG  # MODEL_TYPES.FLUIDOS_RANKER\n",
    "augmentation = AUGMENTATION_TYPES.FEEDBACK_LOOP  # AUGMENTATION_TYPES.PERFORMANCE_RATING\n",
    "\n",
    "epochs = 2\n",
    "load_from_generated = True ## Change if first time executing\n",
    "test_mode = False\n",
    "max_pod = 2000\n",
    "tr_number = 50 # -1 for gct\n",
    "\n",
    "path_output_model = \"./\"\n",
    "path_output = \"./\"\n",
    "\n",
    "dataset_subset = \"rnd\"\n",
    "\n",
    "#DATASETS can be downloaded here: https://drive.google.com/drive/folders/13sNpT5ycd7XHPFcpEHEVQ1RtctMQADcK\n",
    "path_dataset_ml_ready = \"/Users/id05358/Documents/Project/FLUIDOS/ibm_telefonica_dataset\"\n",
    "# path_dataset_ml_ready = \"<INSERT_YOUR_PATH_HERE>/ibm_telefonica_dataset\"\n",
    "\n",
    "MODEL_GLOBAL = \"model_global\"\n",
    "MODEL_GLOBAL_UPDATED = \"model_global_updated\"\n",
    "MODEL_GLOBAL_UPDATED_DP = \"model_global_updated_DP\"\n",
    "FED_MODELS_TRAINED = [MODEL_GLOBAL, \"model_B\", \"model_C\"]"
   ],
   "outputs": [],
   "execution_count": 3
  },
  {
   "cell_type": "code",
   "metadata": {
    "tags": [],
    "ExecuteTime": {
     "end_time": "2025-04-25T09:01:44.792375Z",
     "start_time": "2025-04-25T09:01:44.786978Z"
    }
   },
   "source": [
    "def split_dataset(df: pd.DataFrame, model_names: list[str], model_source_name: str, train_ratio: float = 0.2, test_ratio: float = 0.05) -> dict[str, dict[str, Any]]:\n",
    "\n",
    "    manifests = df[[FLUIDOS_COL_NAMES.POD_FILE_NAME, FLUIDOS_COL_NAMES.POD_MANIFEST]]\n",
    "    counts = manifests[FLUIDOS_COL_NAMES.POD_MANIFEST].value_counts().to_dict()\n",
    "    # Estimation of pod manifests distribution\n",
    "    frequency_per_pod = []\n",
    "    for index, row in manifests.iterrows():\n",
    "        frequency_per_pod.append(counts[row[FLUIDOS_COL_NAMES.POD_MANIFEST]])\n",
    "\n",
    "    manifests.insert(2, \"frequency\", frequency_per_pod)\n",
    "    manifests = manifests.sort_values(by=\"frequency\", ascending=False)\n",
    "    manifests[\"frequency\"] = manifests[\"frequency\"] / len(manifests)\n",
    "    manifests.index = range(len(manifests.index))\n",
    "    manifests = manifests.reset_index()\n",
    "\n",
    "    manifests_size = len(manifests)\n",
    "\n",
    "    train_size = int(train_ratio * manifests_size)\n",
    "    test_size = int(test_ratio * manifests_size) \n",
    "    test_manifests = manifests.sample(test_size)\n",
    "\n",
    "    train_manifests = manifests[:train_size]\n",
    "    local_manifests = manifests[train_size:]\n",
    "\n",
    "    train_pods = df[df[FLUIDOS_COL_NAMES.POD_FILE_NAME].isin(train_manifests[FLUIDOS_COL_NAMES.POD_FILE_NAME])]\n",
    "    local_pods = df[df[FLUIDOS_COL_NAMES.POD_FILE_NAME].isin(local_manifests[FLUIDOS_COL_NAMES.POD_FILE_NAME])]\n",
    "    test_pods = df[df[FLUIDOS_COL_NAMES.POD_FILE_NAME].isin(test_manifests[FLUIDOS_COL_NAMES.POD_FILE_NAME])]\n",
    "    split_size = len(local_pods) // (len(model_names) - 1)\n",
    "    local_pods_chunks = [local_pods[i:i + split_size] for i in range(0, len(local_pods), split_size)]\n",
    "\n",
    "    model_attributes = {}\n",
    "    model_attributes[MODEL_GLOBAL] = {\"df_train\": train_pods, \"df_test\": test_pods}\n",
    "    for index, model_name in enumerate(model_names[1:]):\n",
    "        model_attributes[model_name] = {\"df_train\": local_pods_chunks[index],\n",
    "                                        \"df_test\": test_pods}\n",
    "            \n",
    "    return model_attributes"
   ],
   "outputs": [],
   "execution_count": 4
  },
  {
   "cell_type": "markdown",
   "metadata": {},
   "source": [
    "## Preparing Datasets"
   ]
  },
  {
   "cell_type": "code",
   "metadata": {
    "tags": [],
    "ExecuteTime": {
     "end_time": "2025-04-25T09:01:52.500543Z",
     "start_time": "2025-04-25T09:01:51.332081Z"
    }
   },
   "source": [
    "logging.info(\"Starting Model Building and Training\")\n",
    "\n",
    "ml_ready_dataset_path = Path(path_dataset_ml_ready)\n",
    "\n",
    "pods_assigment_df, template_resources_df = load_ml_ready_df(ml_ready_dataset_path)\n",
    "\n",
    "#TODO TMP - remove this when all tested \n",
    "# pods_assigment_df = pods_assigment_df[:10000]\n",
    "\n",
    "model_attributes = split_dataset(pods_assigment_df, FED_MODELS_TRAINED, MODEL_GLOBAL)"
   ],
   "outputs": [
    {
     "name": "stdout",
     "output_type": "stream",
     "text": [
      "Loading dataset: /Users/id05358/Documents/Project/FLUIDOS/ibm_telefonica_dataset\n"
     ]
    }
   ],
   "execution_count": 5
  },
  {
   "cell_type": "markdown",
   "metadata": {},
   "source": [
    "## Setting up model Trainers"
   ]
  },
  {
   "cell_type": "code",
   "metadata": {
    "tags": [],
    "ExecuteTime": {
     "end_time": "2025-04-25T09:01:59.989535Z",
     "start_time": "2025-04-25T09:01:54.075509Z"
    }
   },
   "source": [
    "# Time-consuming step for the first run, if run for the second time set load_from_generated=True at the beginning of the notebook\n",
    "if dataset_name == FLUIDOS_DATASETS.BITBRAINS:\n",
    "    total_pods = max_pod * tr_number\n",
    "else:\n",
    "    total_pods = max_pod\n",
    "    \n",
    "for model_name in FED_MODELS_TRAINED:\n",
    "    model_trainer = ModelTrainerFactory.create_model_trainer(model_type,\n",
    "                                                             ml_ready_dataset_path,\n",
    "                                                             Path(path_output).joinpath(\"model_training\"),\n",
    "                                                             max_pod=total_pods,\n",
    "                                                             epochs=epochs,\n",
    "                                                             target_column=get_target_column(augmentation),\n",
    "                                                             load_from_generated=load_from_generated,\n",
    "                                                             model_name=model_name)\n",
    "    model_trainer.prepare_directories()\n",
    "    model_attributes[model_name][\"trainer\"] = model_trainer\n",
    "\n",
    "for model_name in FED_MODELS_TRAINED:\n",
    "    TRAINING_RATIO = 1.0\n",
    "    cached_train = model_attributes[model_name][\"trainer\"].prepare_dataset(model_attributes[model_name]['df_train'],\n",
    "                                                                           template_resources_df, test_mode,\n",
    "                                                                           training_size_ratio=TRAINING_RATIO,\n",
    "                                                                           model_tag=model_name, dataset_type=\"train\")\n",
    "    cached_test = model_attributes[model_name][\"trainer\"].prepare_dataset(model_attributes[model_name]['df_test'],\n",
    "                                                                          template_resources_df, test_mode,\n",
    "                                                                          training_size_ratio=TRAINING_RATIO,\n",
    "                                                                          model_tag=model_name, dataset_type=\"test\")\n",
    "    model_attributes[model_name][\"trainer\"].cached_train = cached_train\n",
    "    model_attributes[model_name][\"trainer\"].cached_test = cached_test"
   ],
   "outputs": [
    {
     "name": "stdout",
     "output_type": "stream",
     "text": [
      "Creating model trainer\n",
      "Preparing directories\n",
      "Creating model trainer\n",
      "Preparing directories\n",
      "Creating model trainer\n",
      "Preparing directories\n"
     ]
    }
   ],
   "execution_count": 6
  },
  {
   "cell_type": "markdown",
   "metadata": {},
   "source": [
    "## Training Global model"
   ]
  },
  {
   "cell_type": "code",
   "metadata": {
    "tags": [],
    "ExecuteTime": {
     "end_time": "2025-04-25T09:02:27.918397Z",
     "start_time": "2025-04-25T09:02:00.248608Z"
    }
   },
   "source": [
    "model_attributes[MODEL_GLOBAL][\"trainer\"].build_model()\n",
    "model_attributes[MODEL_GLOBAL][\"trainer\"].check_model_dataset_depencies()\n",
    "model_attributes[MODEL_GLOBAL][\"trainer\"].train_model()\n",
    "model_attributes[MODEL_GLOBAL][\"eval_results\"] = model_attributes[MODEL_GLOBAL][\"trainer\"].evaluate()\n",
    "\n",
    "for model_name in FED_MODELS_TRAINED:\n",
    "    if model_name == MODEL_GLOBAL:\n",
    "        continue\n",
    "    shutil.copytree(model_attributes[MODEL_GLOBAL][\"trainer\"].checkpoint_path.parent.parent.parent, model_attributes[model_name][\"trainer\"].checkpoint_path.parent.parent.parent, dirs_exist_ok=True)"
   ],
   "outputs": [
    {
     "name": "stdout",
     "output_type": "stream",
     "text": [
      "Training...\n"
     ]
    },
    {
     "name": "stderr",
     "output_type": "stream",
     "text": [
      "Epoch 0: 100%|██████████| 2500/2500 [00:11<00:00, 213.44batch/s, accuracy=1, loss=2.95]   \n"
     ]
    },
    {
     "name": "stdout",
     "output_type": "stream",
     "text": [
      "Epoch 0, train loss 3.1008 Accuracy 0.88 LR: [0.0001]\n"
     ]
    },
    {
     "name": "stderr",
     "output_type": "stream",
     "text": [
      "(val) Epoch 0:   0%|          | 0/643 [00:00<?, ?batch/s, v_accuracy=0.38, val_loss=3.57]\n"
     ]
    },
    {
     "name": "stdout",
     "output_type": "stream",
     "text": [
      "Epoch 0, val loss 3.445 Accuracy 0.5\n",
      "Current minimal val loss is 3.444971208438903.\n"
     ]
    },
    {
     "name": "stderr",
     "output_type": "stream",
     "text": [
      "Epoch 1: 100%|██████████| 2500/2500 [00:10<00:00, 230.87batch/s, accuracy=0.75, loss=3.19]\n"
     ]
    },
    {
     "name": "stdout",
     "output_type": "stream",
     "text": [
      "Epoch 1, train loss 2.9879 Accuracy 0.96 LR: [0.0001]\n"
     ]
    },
    {
     "name": "stderr",
     "output_type": "stream",
     "text": [
      "(val) Epoch 1:   0%|          | 0/643 [00:00<?, ?batch/s, v_accuracy=0.38, val_loss=3.57]\n"
     ]
    },
    {
     "name": "stdout",
     "output_type": "stream",
     "text": [
      "Epoch 1, val loss 3.3944 Accuracy 0.55\n",
      "Current minimal val loss is 3.394439204855247.\n",
      "(\"Evaluation results: {'total_loss': 3.394439204855247, 'accuracy': \"\n",
      " '0.5472395023328149}')\n"
     ]
    }
   ],
   "execution_count": 7
  },
  {
   "cell_type": "markdown",
   "metadata": {},
   "source": [
    "## Training Child Models from Global Model"
   ]
  },
  {
   "cell_type": "code",
   "metadata": {
    "tags": [],
    "ExecuteTime": {
     "end_time": "2025-04-25T09:03:59.602948Z",
     "start_time": "2025-04-25T09:02:27.928275Z"
    }
   },
   "source": [
    "for model_name in FED_MODELS_TRAINED:\n",
    "    if model_name == MODEL_GLOBAL:\n",
    "        continue\n",
    "    print(model_name)\n",
    "    model_attributes[model_name][\"trainer\"].load_model(load_from_checkpoint=True)  # type: ignore\n",
    "    model_attributes[model_name][\"trainer\"].train_model()\n",
    "    model_attributes[model_name][\"eval_results\"] = model_attributes[model_name][\"trainer\"].evaluate()\n",
    "\n",
    "logging.info(\"MODELS Evaluation Results\")\n",
    "for model_name in FED_MODELS_TRAINED:\n",
    "    if \"eval_results\" in model_attributes[model_name]:\n",
    "        logging.info(f\"MODEL: {model_name}: {model_attributes[model_name]['eval_results']}\")\n",
    "\n",
    "logging.info(f\"Pipeline output located at: {path_output_model}\")\n"
   ],
   "outputs": [
    {
     "name": "stdout",
     "output_type": "stream",
     "text": [
      "model_B\n",
      "Training...\n"
     ]
    },
    {
     "name": "stderr",
     "output_type": "stream",
     "text": [
      "Epoch 0: 100%|██████████| 5000/5000 [00:19<00:00, 262.88batch/s, accuracy=0.75, loss=3.2] \n"
     ]
    },
    {
     "name": "stdout",
     "output_type": "stream",
     "text": [
      "Epoch 0, train loss 3.2561 Accuracy 0.69 LR: [0.0001]\n"
     ]
    },
    {
     "name": "stderr",
     "output_type": "stream",
     "text": [
      "(val) Epoch 0:   0%|          | 0/643 [00:00<?, ?batch/s, v_accuracy=0.88, val_loss=3.07]\n"
     ]
    },
    {
     "name": "stdout",
     "output_type": "stream",
     "text": [
      "Epoch 0, val loss 3.1404 Accuracy 0.8\n",
      "Current minimal val loss is 3.140428249053599.\n"
     ]
    },
    {
     "name": "stderr",
     "output_type": "stream",
     "text": [
      "Epoch 1: 100%|██████████| 5000/5000 [00:19<00:00, 260.19batch/s, accuracy=0.62, loss=3.32]\n"
     ]
    },
    {
     "name": "stdout",
     "output_type": "stream",
     "text": [
      "Epoch 1, train loss 3.2124 Accuracy 0.73 LR: [0.0001]\n"
     ]
    },
    {
     "name": "stderr",
     "output_type": "stream",
     "text": [
      "(val) Epoch 1:   0%|          | 0/643 [00:01<?, ?batch/s, v_accuracy=0.88, val_loss=3.07]\n"
     ]
    },
    {
     "name": "stdout",
     "output_type": "stream",
     "text": [
      "Epoch 1, val loss 3.1281 Accuracy 0.82\n",
      "Current minimal val loss is 3.1281125864381925.\n",
      "(\"Evaluation results: {'total_loss': 3.1281125864381925, 'accuracy': \"\n",
      " '0.8172628304821151}')\n",
      "model_C\n",
      "Training...\n"
     ]
    },
    {
     "name": "stderr",
     "output_type": "stream",
     "text": [
      "Epoch 0: 100%|██████████| 5000/5000 [00:24<00:00, 202.60batch/s, accuracy=1, loss=2.95]   \n"
     ]
    },
    {
     "name": "stdout",
     "output_type": "stream",
     "text": [
      "Epoch 0, train loss 3.2204 Accuracy 0.73 LR: [0.0001]\n"
     ]
    },
    {
     "name": "stderr",
     "output_type": "stream",
     "text": [
      "(val) Epoch 0:   0%|          | 0/643 [00:01<?, ?batch/s, v_accuracy=0.88, val_loss=3.07]\n"
     ]
    },
    {
     "name": "stdout",
     "output_type": "stream",
     "text": [
      "Epoch 0, val loss 3.1772 Accuracy 0.77\n",
      "Current minimal val loss is 3.1771794933924222.\n"
     ]
    },
    {
     "name": "stderr",
     "output_type": "stream",
     "text": [
      "Epoch 1: 100%|██████████| 5000/5000 [00:22<00:00, 226.08batch/s, accuracy=0.88, loss=3.07]\n"
     ]
    },
    {
     "name": "stdout",
     "output_type": "stream",
     "text": [
      "Epoch 1, train loss 3.1578 Accuracy 0.79 LR: [0.0001]\n"
     ]
    },
    {
     "name": "stderr",
     "output_type": "stream",
     "text": [
      "(val) Epoch 1:   0%|          | 0/643 [00:01<?, ?batch/s, v_accuracy=0.88, val_loss=3.07]\n"
     ]
    },
    {
     "name": "stdout",
     "output_type": "stream",
     "text": [
      "Epoch 1, val loss 3.1682 Accuracy 0.78\n",
      "Current minimal val loss is 3.168161239816835.\n",
      "(\"Evaluation results: {'total_loss': 3.168161239816835, 'accuracy': \"\n",
      " '0.7776049766718507}')\n"
     ]
    }
   ],
   "execution_count": 8
  },
  {
   "cell_type": "markdown",
   "metadata": {},
   "source": [
    "## Federated Learning POC\n",
    "\n",
    "Idea: send averaged updates from model_B(Mb) and model_C(Mc) to update the model_global (Ms -> Ms')."
   ]
  },
  {
   "cell_type": "code",
   "metadata": {
    "ExecuteTime": {
     "end_time": "2025-04-25T09:05:09.727568Z",
     "start_time": "2025-04-25T09:05:09.720146Z"
    }
   },
   "source": [
    "FED_MODELS_TRAINED.append(MODEL_GLOBAL_UPDATED)"
   ],
   "outputs": [],
   "execution_count": 9
  },
  {
   "cell_type": "code",
   "metadata": {
    "tags": [],
    "ExecuteTime": {
     "end_time": "2025-04-25T09:05:11.348850Z",
     "start_time": "2025-04-25T09:05:11.018143Z"
    }
   },
   "source": [
    "# Generation of averaged local model updates\n",
    "model_source_weights = model_attributes[MODEL_GLOBAL][\"trainer\"].orchestrator.state_dict().values()\n",
    "model_B_weights = model_attributes['model_B'][\"trainer\"].orchestrator.state_dict().values()\n",
    "model_C_weights = model_attributes['model_C'][\"trainer\"].orchestrator.state_dict().values()\n",
    "\n",
    "model_b_s_update = [(x - y) for x, y in zip(model_B_weights, model_source_weights)]\n",
    "model_c_s_update = [(x - y) for x, y in zip(model_C_weights, model_source_weights)]\n",
    "\n",
    "## ADD DP to differences wrt GLOBAL MODEL\n",
    "\n",
    "averaged_update = [0.5*(x + y) for x, y in zip(model_b_s_update, model_c_s_update)]\n",
    "# updated weights: Ms’ = Ms + 0.5*((Ms-Mb) + (Ms-Mc))\n",
    "model_global_weights = [x + y for x, y in zip(averaged_update, model_source_weights)]\n"
   ],
   "outputs": [],
   "execution_count": 10
  },
  {
   "cell_type": "code",
   "metadata": {
    "ExecuteTime": {
     "end_time": "2025-04-25T09:05:15.454343Z",
     "start_time": "2025-04-25T09:05:11.896199Z"
    }
   },
   "source": [
    "# Creation of the Global model object\n",
    "model_attributes[MODEL_GLOBAL_UPDATED] = {}\n",
    "model_attributes[MODEL_GLOBAL_UPDATED][\"trainer\"] = ModelTrainerFactory.create_model_trainer(model_type,\n",
    "                                                                                             ml_ready_dataset_path,\n",
    "                                                                                             Path(path_output).joinpath(\"model_training\"),\n",
    "                                                                                             max_pod=total_pods,\n",
    "                                                                                             epochs=epochs,\n",
    "                                                                                             target_column=get_target_column(augmentation),\n",
    "                                                                                             load_from_generated=True,\n",
    "                                                                                             model_name=MODEL_GLOBAL_UPDATED)\n",
    "model_attributes[MODEL_GLOBAL_UPDATED][\"trainer\"].prepare_directories()\n",
    "model_attributes[MODEL_GLOBAL_UPDATED][\"df_train\"] = model_attributes[MODEL_GLOBAL][\"df_train\"].copy()\n",
    "model_attributes[MODEL_GLOBAL_UPDATED][\"df_test\"] = model_attributes[MODEL_GLOBAL][\"df_test\"].copy()\n",
    "shutil.copytree(model_attributes[MODEL_GLOBAL][\"trainer\"].checkpoint_path.parent.parent.parent, model_attributes[MODEL_GLOBAL_UPDATED][\"trainer\"].checkpoint_path.parent.parent.parent, dirs_exist_ok=True)\n",
    "\n",
    "TRAINING_RATIO = 1.0\n",
    "cached_train = model_attributes[MODEL_GLOBAL_UPDATED][\"trainer\"].prepare_dataset(model_attributes[MODEL_GLOBAL_UPDATED]['df_train'],\n",
    "                                                                                 template_resources_df, test_mode,\n",
    "                                                                                 training_size_ratio=TRAINING_RATIO,\n",
    "                                                                                 model_tag=MODEL_GLOBAL, dataset_type=\"train\")\n",
    "cached_test = model_attributes[MODEL_GLOBAL_UPDATED][\"trainer\"].prepare_dataset(model_attributes[MODEL_GLOBAL_UPDATED]['df_test'],\n",
    "                                                                                template_resources_df, test_mode,\n",
    "                                                                                training_size_ratio=TRAINING_RATIO,\n",
    "                                                                                model_tag=MODEL_GLOBAL, dataset_type=\"test\")\n",
    "model_attributes[MODEL_GLOBAL_UPDATED][\"trainer\"].cached_train = cached_train\n",
    "model_attributes[MODEL_GLOBAL_UPDATED][\"trainer\"].cached_test = cached_test\n",
    "    \n",
    "    \n",
    "model_attributes[MODEL_GLOBAL_UPDATED][\"trainer\"].build_model()"
   ],
   "outputs": [
    {
     "name": "stdout",
     "output_type": "stream",
     "text": [
      "Creating model trainer\n",
      "Preparing directories\n"
     ]
    },
    {
     "data": {
      "text/plain": [
       "OrchestrationModel(\n",
       "  (config_embedding): Embedding(50, 8)\n",
       "  (config_embedding_dropout): Dropout(p=0.2, inplace=False)\n",
       "  (pod_embedding): Embedding(119547, 512)\n",
       "  (embedding_aggregator): EmbeddingAggregation()\n",
       "  (linear1): Linear(in_features=528, out_features=1024, bias=True)\n",
       "  (activation1): ReLU(inplace=True)\n",
       "  (batch_norm1): BatchNorm1d(1024, eps=1e-05, momentum=0.1, affine=True, track_running_stats=True)\n",
       "  (dropout1): Dropout(p=0.7, inplace=False)\n",
       "  (fc_layer1): Sequential(\n",
       "    (0): Linear(in_features=528, out_features=1024, bias=True)\n",
       "    (1): ReLU(inplace=True)\n",
       "    (2): BatchNorm1d(1024, eps=1e-05, momentum=0.1, affine=True, track_running_stats=True)\n",
       "    (3): Dropout(p=0.7, inplace=False)\n",
       "  )\n",
       "  (linear2): Linear(in_features=1024, out_features=512, bias=True)\n",
       "  (activation2): ReLU(inplace=True)\n",
       "  (batch_norm2): BatchNorm1d(512, eps=1e-05, momentum=0.1, affine=True, track_running_stats=True)\n",
       "  (dropout2): Dropout(p=0.35, inplace=False)\n",
       "  (fc_layer2): Sequential(\n",
       "    (0): Linear(in_features=1024, out_features=512, bias=True)\n",
       "    (1): ReLU(inplace=True)\n",
       "    (2): BatchNorm1d(512, eps=1e-05, momentum=0.1, affine=True, track_running_stats=True)\n",
       "    (3): Dropout(p=0.35, inplace=False)\n",
       "  )\n",
       "  (linear3): Linear(in_features=512, out_features=512, bias=True)\n",
       "  (activation3): ReLU(inplace=True)\n",
       "  (batch_norm): BatchNorm1d(512, eps=1e-05, momentum=0.1, affine=True, track_running_stats=True)\n",
       "  (dropout3): Dropout(p=0.35, inplace=False)\n",
       "  (fc_layer3): Sequential(\n",
       "    (0): Linear(in_features=512, out_features=512, bias=True)\n",
       "    (1): ReLU(inplace=True)\n",
       "    (2): BatchNorm1d(512, eps=1e-05, momentum=0.1, affine=True, track_running_stats=True)\n",
       "    (3): Dropout(p=0.35, inplace=False)\n",
       "  )\n",
       "  (head): Linear(in_features=512, out_features=50, bias=True)\n",
       ")"
      ]
     },
     "execution_count": 11,
     "metadata": {},
     "output_type": "execute_result"
    }
   ],
   "execution_count": 11
  },
  {
   "cell_type": "code",
   "metadata": {
    "tags": [],
    "ExecuteTime": {
     "end_time": "2025-04-25T09:05:16.798508Z",
     "start_time": "2025-04-25T09:05:15.465267Z"
    }
   },
   "source": [
    "# load the updated model weights Ms' and evaluate the model with the common test subset\n",
    "from collections import OrderedDict\n",
    "\n",
    "model_global_weights_dict = {}\n",
    "index = 0\n",
    "for key in model_attributes[MODEL_GLOBAL_UPDATED][\"trainer\"].orchestrator.state_dict():\n",
    "    model_global_weights_dict[key] = model_global_weights[index]\n",
    "    index += 1\n",
    "model_attributes[MODEL_GLOBAL_UPDATED][\"trainer\"].orchestrator.load_state_dict(OrderedDict(model_global_weights_dict))    \n",
    "model_attributes[MODEL_GLOBAL_UPDATED][\"trainer\"].orchestrator.eval()\n",
    "\n",
    "model_attributes[MODEL_GLOBAL_UPDATED][\"trainer\"].validate_model()\n",
    "model_attributes[MODEL_GLOBAL_UPDATED][\"eval_results\"] = model_attributes[MODEL_GLOBAL_UPDATED][\"trainer\"].evaluate()"
   ],
   "outputs": [
    {
     "name": "stderr",
     "output_type": "stream",
     "text": [
      "(val) Epoch 0:   0%|          | 0/643 [00:01<?, ?batch/s, v_accuracy=0.5, val_loss=3.44] \n"
     ]
    },
    {
     "name": "stdout",
     "output_type": "stream",
     "text": [
      "(\"Evaluation results: {'total_loss': 3.154359614311444, 'accuracy': \"\n",
      " '0.7927682737169518}')\n"
     ]
    }
   ],
   "execution_count": 12
  },
  {
   "cell_type": "markdown",
   "metadata": {},
   "source": [
    "## Evaluation"
   ]
  },
  {
   "cell_type": "code",
   "metadata": {
    "ExecuteTime": {
     "end_time": "2025-04-25T09:05:16.888744Z",
     "start_time": "2025-04-25T09:05:16.875360Z"
    }
   },
   "source": [
    "if model_type == MODEL_TYPES.CG:\n",
    "    results_df = pd.DataFrame(index=['accuracy', 'total_loss'], columns=FED_MODELS_TRAINED)\n",
    "\n",
    "    for model_name in FED_MODELS_TRAINED:\n",
    "        for metric, value in model_attributes[model_name][\"eval_results\"].items():\n",
    "            results_df.loc[metric, model_name] = value\n",
    "elif MODEL_TYPES.FLUIDOS_RANKER:\n",
    "    results_df = pd.DataFrame(index=['root_mean_squared_error','loss','regularization_loss','total_loss'], columns=FED_MODELS_TRAINED)\n",
    "\n",
    "    for model_name in FED_MODELS_TRAINED:\n",
    "        for metric, value in model_attributes[model_name][\"eval_results\"].items():\n",
    "            results_df.loc[metric, model_name] = value\n",
    "\n",
    "results_df"
   ],
   "outputs": [
    {
     "data": {
      "text/plain": [
       "           model_global   model_B   model_C model_global_updated\n",
       "accuracy        0.54724  0.817263  0.777605             0.792768\n",
       "total_loss     3.394439  3.128113  3.168161              3.15436"
      ],
      "text/html": [
       "<div>\n",
       "<style scoped>\n",
       "    .dataframe tbody tr th:only-of-type {\n",
       "        vertical-align: middle;\n",
       "    }\n",
       "\n",
       "    .dataframe tbody tr th {\n",
       "        vertical-align: top;\n",
       "    }\n",
       "\n",
       "    .dataframe thead th {\n",
       "        text-align: right;\n",
       "    }\n",
       "</style>\n",
       "<table border=\"1\" class=\"dataframe\">\n",
       "  <thead>\n",
       "    <tr style=\"text-align: right;\">\n",
       "      <th></th>\n",
       "      <th>model_global</th>\n",
       "      <th>model_B</th>\n",
       "      <th>model_C</th>\n",
       "      <th>model_global_updated</th>\n",
       "    </tr>\n",
       "  </thead>\n",
       "  <tbody>\n",
       "    <tr>\n",
       "      <th>accuracy</th>\n",
       "      <td>0.54724</td>\n",
       "      <td>0.817263</td>\n",
       "      <td>0.777605</td>\n",
       "      <td>0.792768</td>\n",
       "    </tr>\n",
       "    <tr>\n",
       "      <th>total_loss</th>\n",
       "      <td>3.394439</td>\n",
       "      <td>3.128113</td>\n",
       "      <td>3.168161</td>\n",
       "      <td>3.15436</td>\n",
       "    </tr>\n",
       "  </tbody>\n",
       "</table>\n",
       "</div>"
      ]
     },
     "execution_count": 13,
     "metadata": {},
     "output_type": "execute_result"
    }
   ],
   "execution_count": 13
  },
  {
   "cell_type": "code",
   "metadata": {
    "tags": [],
    "ExecuteTime": {
     "end_time": "2025-04-25T09:05:17.171824Z",
     "start_time": "2025-04-25T09:05:16.986022Z"
    }
   },
   "source": [
    "%matplotlib inline\n",
    "\n",
    "\n",
    "plt.figure(figsize=(10, 6))\n",
    "\n",
    "\n",
    "\n",
    "bar_width = 0.2\n",
    "bar_positions = np.arange(len(results_df.columns))\n",
    "\n",
    "\n",
    "for i, index in enumerate(results_df.index):\n",
    "    plt.bar(\n",
    "        bar_positions + i * bar_width,\n",
    "        results_df.loc[index],\n",
    "        width=bar_width,\n",
    "        label=index\n",
    "    )\n",
    "\n",
    "plt.xlabel('Models')\n",
    "plt.ylabel('Metrics')\n",
    "plt.title('Model Performance')\n",
    "plt.xticks(bar_positions + bar_width, results_df.columns)\n",
    "plt.legend(title='Indices', loc='lower right')\n",
    "\n",
    "plt.show()\n"
   ],
   "outputs": [
    {
     "data": {
      "text/plain": [
       "<Figure size 1000x600 with 1 Axes>"
      ],
      "image/png": "[encoded data removed]"
     },
     "metadata": {},
     "output_type": "display_data"
    }
   ],
   "execution_count": 14
  },
  {
   "cell_type": "markdown",
   "metadata": {},
   "source": [
    "## Adding Central DP"
   ]
  },
  {
   "cell_type": "markdown",
   "metadata": {},
   "source": [
    "### 1. Defining DP functions"
   ]
  },
  {
   "metadata": {
    "ExecuteTime": {
     "end_time": "2025-04-25T09:05:23.214488Z",
     "start_time": "2025-04-25T09:05:23.088680Z"
    }
   },
   "cell_type": "code",
   "source": [
    "from functools import reduce\n",
    "import numpy as np\n",
    "from numpy.typing import NDArray\n",
    "from opacus.accountants.utils import get_noise_multiplier\n",
    "from typing import List"
   ],
   "outputs": [],
   "execution_count": 15
  },
  {
   "metadata": {
    "ExecuteTime": {
     "end_time": "2025-04-25T09:05:23.695438Z",
     "start_time": "2025-04-25T09:05:23.690933Z"
    }
   },
   "cell_type": "code",
   "source": [
    "def clip_inputs_inplace(model_updates: List[List[torch.Tensor]], clipping_norm: float, noise_type: str) -> None:\n",
    "    \"\"\"\n",
    "    In-place norm clipping for a list of client updates. Each client update is a list of PyTorch tensors.\n",
    "\n",
    "    Args:\n",
    "        model_updates: list of client updates, each a list of PyTorch tensors.\n",
    "        clipping_norm: norm bound to clip each client update to.\n",
    "        noise_type: 'gaussian' uses L2 norm, 'laplace' uses L1 norm.\n",
    "    \"\"\"\n",
    "    if noise_type == 'gaussian':\n",
    "        lp_norm = 2\n",
    "    elif noise_type == 'laplace':\n",
    "        lp_norm = 1\n",
    "    else:\n",
    "        raise ValueError(f'noise_type {noise_type} not supported!')\n",
    "\n",
    "    for i, update in enumerate(model_updates):\n",
    "        # Cast layers to float just for norm calculation\n",
    "        norm = sum(torch.norm(layer.float().view(-1), p=lp_norm).item() ** lp_norm for layer in update) ** (1 / lp_norm)\n",
    "\n",
    "        print(f\"Client {i} original norm: {norm:.4f}\")\n",
    "\n",
    "        if norm > clipping_norm and norm > 0:\n",
    "            scaling_factor = clipping_norm / norm\n",
    "            print(f\"Scaling client {i} by factor: {scaling_factor:.4f}\")\n",
    "            for j, layer in enumerate(update):\n",
    "                if not torch.is_floating_point(layer):\n",
    "                    layer = layer.float()\n",
    "                    update[j] = layer  # update reference\n",
    "                update[j].mul_(scaling_factor)\n",
    "        else:\n",
    "            print(f\"Client {i} not clipped.\")\n"
   ],
   "outputs": [],
   "execution_count": 16
  },
  {
   "metadata": {
    "ExecuteTime": {
     "end_time": "2025-04-25T09:05:24.494170Z",
     "start_time": "2025-04-25T09:05:24.487893Z"
    }
   },
   "cell_type": "code",
   "source": [
    "def add_noise(\n",
    "    params: List[torch.Tensor],\n",
    "    std_dev: float,\n",
    "    noise_type: str,\n",
    "    layer_names: List[str]\n",
    ") -> List[torch.Tensor]:\n",
    "    \"\"\"\n",
    "    Add DP noise to a list of tensors, skipping sensitive layers.\n",
    "    \"\"\"\n",
    "    skip_keywords = [\"running_mean\", \"running_var\", \"num_batches_tracked\", \"bias\", \"embedding.weight\", \"pod_embedding.weight\"]\n",
    "    noisy_params = []\n",
    "\n",
    "    for name, param in zip(layer_names, params):\n",
    "        if any(skip in name for skip in skip_keywords):\n",
    "            noisy_params.append(param)\n",
    "            continue\n",
    "\n",
    "        if not torch.is_floating_point(param):\n",
    "            param = param.float()\n",
    "\n",
    "        if noise_type == 'gaussian':\n",
    "            noise = torch.normal(mean=0.0, std=std_dev, size=param.shape).to(param.device)\n",
    "        elif noise_type == 'laplace':\n",
    "            noise = torch.from_numpy(np.random.laplace(loc=0.0, scale=std_dev, size=param.shape)).float().to(param.device)\n",
    "        else:\n",
    "            raise ValueError(f\"Unsupported noise type: {noise_type}\")\n",
    "\n",
    "        noisy_params.append(param + noise)\n",
    "\n",
    "    return noisy_params\n",
    "\n",
    "\n",
    "def privacy_accountant(target_epsilon: float, target_delta: float, fl_rounds: int = 1, sampling_frac: float = 1,\n",
    "                       noise_type: str = 'gaussian', max_alpha: int = 128) -> float:\n",
    "    \"\"\"\n",
    "    Privacy accounting to change from (epsilon, delta) to noise sigma, wraps Opacus for ADP.\n",
    "    Args:\n",
    "        target_epsilon: DP epsilon\n",
    "        target_delta: DP delta, should be 0 for pure DP (laplace noise).\n",
    "        fl_rounds: total number of FL rounds\n",
    "        sampling_frac: probability of including a given client in an FL round (Poisson sampling with constant probability); this does not affect pure DP (delta=0), which should have sampling_frac == 1 in accounting.\n",
    "        noise_type: type of noise to be used, supports 'gaussian' or 'laplace'; gaussian noise uses RDP accounting from Opacus, Laplace assumes pure DP\n",
    "        max_alpha: maximum value of alpha to be used in RDP accounting; try increasing this is if encountering errors from RDP accountant, larger value can be more accurate, but also slower\n",
    "    Returns:\n",
    "        noise_sigma: DP noise parameter\n",
    "    \"\"\"\n",
    "    assert target_epsilon > 0, f'target epsilon must be > 0, got {target_epsilon}'\n",
    "    assert 0 <= target_delta <= 1, f'target delta must be in [0,1], got {target_delta}'\n",
    "    assert fl_rounds > 0, f'FL rounds must be > 0, got {fl_rounds}'\n",
    "    assert 0 < sampling_frac <= 1, f'sampling frac must be in [0,1], got {sampling_frac}'\n",
    "\n",
    "    if noise_type == 'gaussian':\n",
    "        # use RDP accountant from Opacus with Poisson subsampling on the clients\n",
    "        # assume sensitivity = 1 and rescale in dp_module when doing clipping\n",
    "        alphas = [1 + x / 100.0 for x in range(1, 100)] + [1.5 + x / 10.0 for x in range(0, 50)] + list(range(12, max_alpha))\n",
    "        noise_sigma = get_noise_multiplier(target_epsilon=target_epsilon, target_delta=target_delta, steps=fl_rounds,\n",
    "                                           sample_rate=sampling_frac, accountant='rdp', alphas=alphas)\n",
    "\n",
    "    elif noise_type == 'laplace':\n",
    "        assert target_delta == 0, f'Got delta != 0 with laplace noise. Pure DP with laplace noise has delta == 0!'\n",
    "        assert sampling_frac == 1., f'Got sampling fraction != 1 with laplace noise. Pure DP with laplace noise does NOT benefit from subsampling!'\n",
    "        # noise_sigma for laplace: for each step, scale = sensitivity/(eps/n_comps); here assume sensitivity = 1 and rescale in dp_module when doing clipping\n",
    "        noise_sigma = fl_rounds / target_epsilon\n",
    "    else:\n",
    "        raise ValueError(f'noise_type {noise_type} not supported!')\n",
    "\n",
    "    return noise_sigma"
   ],
   "outputs": [],
   "execution_count": 17
  },
  {
   "metadata": {},
   "cell_type": "markdown",
   "source": "### 2. Clipping the updates"
  },
  {
   "metadata": {
    "ExecuteTime": {
     "end_time": "2025-04-25T09:05:26.265067Z",
     "start_time": "2025-04-25T09:05:26.139617Z"
    }
   },
   "cell_type": "code",
   "source": [
    "model_b_s_update = [(torch.Tensor(x) - y) for x, y in zip(model_B_weights, model_source_weights)]\n",
    "model_c_s_update = [(torch.Tensor(x) - y) for x, y in zip(model_C_weights, model_source_weights)]"
   ],
   "outputs": [],
   "execution_count": 18
  },
  {
   "metadata": {
    "ExecuteTime": {
     "end_time": "2025-04-25T09:05:26.800844Z",
     "start_time": "2025-04-25T09:05:26.799172Z"
    }
   },
   "cell_type": "code",
   "source": [
    "# won't affect a lot on the performance\n",
    "clipping_norm = 10.5"
   ],
   "outputs": [],
   "execution_count": 19
  },
  {
   "metadata": {
    "ExecuteTime": {
     "end_time": "2025-04-25T09:05:27.470687Z",
     "start_time": "2025-04-25T09:05:27.407454Z"
    }
   },
   "cell_type": "code",
   "source": [
    "clip_inputs_inplace([model_b_s_update],clipping_norm=clipping_norm, noise_type='gaussian')\n",
    "clip_inputs_inplace([model_c_s_update],clipping_norm=clipping_norm, noise_type='gaussian')"
   ],
   "outputs": [
    {
     "name": "stdout",
     "output_type": "stream",
     "text": [
      "Client 0 original norm: 12.6363\n",
      "Scaling client 0 by factor: 0.8309\n",
      "Client 0 original norm: 12.2634\n",
      "Scaling client 0 by factor: 0.8562\n"
     ]
    }
   ],
   "execution_count": 20
  },
  {
   "metadata": {
    "ExecuteTime": {
     "end_time": "2025-04-25T09:05:28.137815Z",
     "start_time": "2025-04-25T09:05:28.068066Z"
    }
   },
   "cell_type": "code",
   "source": [
    "averaged_update = [0.5 * (x + y) for x, y in zip(model_b_s_update, model_c_s_update)]\n",
    "# updated weights: Ms’ = Ms + 0.5*((Ms-Mb) + (Ms-Mc))\n",
    "model_global_weights = [x + y for x, y in zip(averaged_update, model_source_weights)]"
   ],
   "outputs": [],
   "execution_count": 21
  },
  {
   "metadata": {
    "ExecuteTime": {
     "end_time": "2025-04-25T09:05:28.757017Z",
     "start_time": "2025-04-25T09:05:28.713636Z"
    }
   },
   "cell_type": "code",
   "source": [
    "flat_weights = torch.cat([w.view(-1) for w in model_global_weights])\n",
    "print(f\"Before noise: mean={flat_weights.mean().item():.4f}, std={flat_weights.std().item():.4f}, max={flat_weights.max().item():.4f}\")"
   ],
   "outputs": [
    {
     "name": "stdout",
     "output_type": "stream",
     "text": [
      "Before noise: mean=0.0004, std=1.2428, max=2500.0000\n"
     ]
    }
   ],
   "execution_count": 22
  },
  {
   "metadata": {
    "ExecuteTime": {
     "end_time": "2025-04-25T09:06:44.152983Z",
     "start_time": "2025-04-25T09:06:44.092318Z"
    }
   },
   "cell_type": "code",
   "source": [
    "expected_keys = list(model_attributes[MODEL_GLOBAL_UPDATED_DP][\"trainer\"].orchestrator.state_dict().keys())\n",
    "\n",
    "# 🔍 Inspect the model layers before adding noise\n",
    "for i, (k, w) in enumerate(zip(expected_keys, model_global_weights)):\n",
    "    print(f\"{i:02d} - {k:40s} | shape: {w.shape} | mean={w.mean().item():.4f}, std={w.std().item():.4f}, max={w.max().item():.4f}\")\n"
   ],
   "outputs": [
    {
     "name": "stdout",
     "output_type": "stream",
     "text": [
      "00 - config_embedding.weight                  | shape: torch.Size([50, 8]) | mean=0.0436, std=0.9872, max=2.2275\n",
      "01 - pod_embedding.weight                     | shape: torch.Size([119547, 512]) | mean=0.0001, std=1.0000, max=5.3342\n",
      "02 - linear1.weight                           | shape: torch.Size([1024, 528]) | mean=0.0000, std=0.0259, max=0.1246\n",
      "03 - linear1.bias                             | shape: torch.Size([1024]) | mean=0.0012, std=0.0253, max=0.1198\n",
      "04 - batch_norm1.weight                       | shape: torch.Size([1024]) | mean=1.0000, std=0.0128, max=1.0477\n",
      "05 - batch_norm1.bias                         | shape: torch.Size([1024]) | mean=0.0007, std=0.0066, max=0.0448\n",
      "06 - batch_norm1.running_mean                 | shape: torch.Size([1024]) | mean=0.0299, std=0.0302, max=0.1465\n",
      "07 - batch_norm1.running_var                  | shape: torch.Size([1024]) | mean=0.0003, std=0.0003, max=0.0018\n",
      "08 - batch_norm1.num_batches_tracked          | shape: torch.Size([]) | mean=2500.0000, std=nan, max=2500.0000\n",
      "09 - fc_layer1.0.weight                       | shape: torch.Size([1024, 528]) | mean=0.0000, std=0.0259, max=0.1246\n",
      "10 - fc_layer1.0.bias                         | shape: torch.Size([1024]) | mean=0.0012, std=0.0253, max=0.1198\n",
      "11 - fc_layer1.2.weight                       | shape: torch.Size([1024]) | mean=1.0000, std=0.0128, max=1.0477\n",
      "12 - fc_layer1.2.bias                         | shape: torch.Size([1024]) | mean=0.0007, std=0.0066, max=0.0448\n",
      "13 - fc_layer1.2.running_mean                 | shape: torch.Size([1024]) | mean=0.0299, std=0.0302, max=0.1465\n",
      "14 - fc_layer1.2.running_var                  | shape: torch.Size([1024]) | mean=0.0003, std=0.0003, max=0.0018\n",
      "15 - fc_layer1.2.num_batches_tracked          | shape: torch.Size([]) | mean=2500.0000, std=nan, max=2500.0000\n",
      "16 - linear2.weight                           | shape: torch.Size([512, 1024]) | mean=-0.0001, std=0.0197, max=0.0781\n",
      "17 - linear2.bias                             | shape: torch.Size([512]) | mean=0.0046, std=0.0193, max=0.0508\n",
      "18 - batch_norm2.weight                       | shape: torch.Size([512]) | mean=1.0047, std=0.0105, max=1.0346\n",
      "19 - batch_norm2.bias                         | shape: torch.Size([512]) | mean=-0.0037, std=0.0085, max=0.0188\n",
      "20 - batch_norm2.running_mean                 | shape: torch.Size([512]) | mean=0.4694, std=0.0776, max=0.7825\n",
      "21 - batch_norm2.running_var                  | shape: torch.Size([512]) | mean=0.5007, std=0.1520, max=1.2438\n",
      "22 - batch_norm2.num_batches_tracked          | shape: torch.Size([]) | mean=2500.0000, std=nan, max=2500.0000\n",
      "23 - fc_layer2.0.weight                       | shape: torch.Size([512, 1024]) | mean=-0.0001, std=0.0197, max=0.0781\n",
      "24 - fc_layer2.0.bias                         | shape: torch.Size([512]) | mean=0.0046, std=0.0193, max=0.0508\n",
      "25 - fc_layer2.2.weight                       | shape: torch.Size([512]) | mean=1.0047, std=0.0105, max=1.0346\n",
      "26 - fc_layer2.2.bias                         | shape: torch.Size([512]) | mean=-0.0037, std=0.0085, max=0.0188\n",
      "27 - fc_layer2.2.running_mean                 | shape: torch.Size([512]) | mean=0.4694, std=0.0776, max=0.7825\n",
      "28 - fc_layer2.2.running_var                  | shape: torch.Size([512]) | mean=0.5007, std=0.1520, max=1.2438\n",
      "29 - fc_layer2.2.num_batches_tracked          | shape: torch.Size([]) | mean=2500.0000, std=nan, max=2500.0000\n",
      "30 - linear3.weight                           | shape: torch.Size([512, 512]) | mean=-0.0003, std=0.0273, max=0.0789\n",
      "31 - linear3.bias                             | shape: torch.Size([512]) | mean=0.0129, std=0.0264, max=0.0714\n",
      "32 - batch_norm.weight                        | shape: torch.Size([512]) | mean=1.0383, std=0.0112, max=1.0679\n",
      "33 - batch_norm.bias                          | shape: torch.Size([512]) | mean=-0.0077, std=0.0283, max=0.0586\n",
      "34 - batch_norm.running_mean                  | shape: torch.Size([512]) | mean=0.4842, std=0.0788, max=0.7674\n",
      "35 - batch_norm.running_var                   | shape: torch.Size([512]) | mean=0.4988, std=0.1482, max=1.0479\n",
      "36 - batch_norm.num_batches_tracked           | shape: torch.Size([]) | mean=2500.0000, std=nan, max=2500.0000\n",
      "37 - fc_layer3.0.weight                       | shape: torch.Size([512, 512]) | mean=-0.0003, std=0.0273, max=0.0789\n",
      "38 - fc_layer3.0.bias                         | shape: torch.Size([512]) | mean=0.0129, std=0.0264, max=0.0714\n",
      "39 - fc_layer3.2.weight                       | shape: torch.Size([512]) | mean=1.0383, std=0.0112, max=1.0679\n",
      "40 - fc_layer3.2.bias                         | shape: torch.Size([512]) | mean=-0.0077, std=0.0283, max=0.0586\n",
      "41 - fc_layer3.2.running_mean                 | shape: torch.Size([512]) | mean=0.4842, std=0.0788, max=0.7674\n",
      "42 - fc_layer3.2.running_var                  | shape: torch.Size([512]) | mean=0.4988, std=0.1482, max=1.0479\n",
      "43 - fc_layer3.2.num_batches_tracked          | shape: torch.Size([]) | mean=2500.0000, std=nan, max=2500.0000\n",
      "44 - head.weight                              | shape: torch.Size([50, 512]) | mean=0.0056, std=0.0278, max=0.0900\n",
      "45 - head.bias                                | shape: torch.Size([50]) | mean=-0.0720, std=0.0489, max=0.0796\n"
     ]
    }
   ],
   "execution_count": 29
  },
  {
   "metadata": {},
   "cell_type": "markdown",
   "source": [
    "These layers are not meant to be noised:\n",
    "- running_mean, running_var, num_batches_tracked: internal BatchNorm buffers – not trainable\n",
    "- bias: very small scale – adding noise easily destabilizes them\n",
    "- embedding.weight, pod_embedding.weight: huge size and sensitive — even small noise causes loss to diverge"
   ]
  },
  {
   "metadata": {
    "ExecuteTime": {
     "end_time": "2025-04-25T09:05:40.715352Z",
     "start_time": "2025-04-25T09:05:40.713193Z"
    }
   },
   "cell_type": "code",
   "source": [
    "skip_keywords = [\n",
    "    \"running_mean\", \"running_var\", \"num_batches_tracked\",  # BatchNorm internals\n",
    "    \"bias\",                                                # Biases across layers\n",
    "    \"embedding.weight\", \"pod_embedding.weight\"             # Embeddings\n",
    "]"
   ],
   "outputs": [],
   "execution_count": 24
  },
  {
   "metadata": {},
   "cell_type": "markdown",
   "source": "### 3. Adding noise to aggregated weights"
  },
  {
   "metadata": {
    "ExecuteTime": {
     "end_time": "2025-04-25T09:05:42.576792Z",
     "start_time": "2025-04-25T09:05:42.570920Z"
    }
   },
   "cell_type": "code",
   "source": [
    "EPSILON = 100\n",
    "DELTA = 1e-5\n",
    "\n",
    "noise_sigma = privacy_accountant(EPSILON,DELTA)\n",
    "print(f\"Computed noise sigma: {noise_sigma}\")"
   ],
   "outputs": [
    {
     "name": "stdout",
     "output_type": "stream",
     "text": [
      "Computed noise sigma: 0.09740352630615234\n"
     ]
    }
   ],
   "execution_count": 25
  },
  {
   "metadata": {
    "ExecuteTime": {
     "end_time": "2025-04-25T09:06:47.872763Z",
     "start_time": "2025-04-25T09:06:47.869990Z"
    }
   },
   "cell_type": "code",
   "source": "expected_keys = list(model_attributes[MODEL_GLOBAL_UPDATED_DP][\"trainer\"].orchestrator.state_dict().keys())",
   "outputs": [],
   "execution_count": 30
  },
  {
   "metadata": {
    "ExecuteTime": {
     "end_time": "2025-04-25T09:06:49.566266Z",
     "start_time": "2025-04-25T09:06:49.538159Z"
    }
   },
   "cell_type": "code",
   "source": [
    "model_global_weights_prime = add_noise(\n",
    "    params=model_global_weights,\n",
    "    std_dev= noise_sigma/3,  # scale per 3 clients\n",
    "    noise_type='gaussian',\n",
    "    layer_names=expected_keys\n",
    ")"
   ],
   "outputs": [],
   "execution_count": 31
  },
  {
   "metadata": {
    "ExecuteTime": {
     "end_time": "2025-04-25T09:06:52.296352Z",
     "start_time": "2025-04-25T09:06:52.264275Z"
    }
   },
   "cell_type": "code",
   "source": [
    "# Clean any NaNs/Infs introduced by noise\n",
    "for i, w in enumerate(model_global_weights_prime):\n",
    "    w = torch.nan_to_num(w, nan=0.0, posinf=1.0, neginf=-1.0)\n",
    "    model_global_weights_prime[i] = w"
   ],
   "outputs": [],
   "execution_count": 33
  },
  {
   "metadata": {
    "ExecuteTime": {
     "end_time": "2025-04-25T09:06:53.432641Z",
     "start_time": "2025-04-25T09:06:53.389970Z"
    }
   },
   "cell_type": "code",
   "source": [
    "flat_noisy = torch.cat([w.view(-1) for w in model_global_weights_prime])\n",
    "print(f\"After noise: mean={flat_noisy.mean().item():.4f}, std={flat_noisy.std().item():.4f}, max={flat_noisy.max().item():.4f}\")"
   ],
   "outputs": [
    {
     "name": "stdout",
     "output_type": "stream",
     "text": [
      "After noise: mean=0.0004, std=1.2429, max=2500.0000\n"
     ]
    }
   ],
   "execution_count": 34
  },
  {
   "metadata": {},
   "cell_type": "markdown",
   "source": "### 4. Federated Learning POC"
  },
  {
   "metadata": {
    "ExecuteTime": {
     "end_time": "2025-04-25T09:06:55.770880Z",
     "start_time": "2025-04-25T09:06:55.768241Z"
    }
   },
   "cell_type": "code",
   "source": "FED_MODELS_TRAINED.append(MODEL_GLOBAL_UPDATED_DP)",
   "outputs": [],
   "execution_count": 35
  },
  {
   "metadata": {
    "ExecuteTime": {
     "end_time": "2025-04-25T09:07:00.597539Z",
     "start_time": "2025-04-25T09:06:57.210778Z"
    }
   },
   "cell_type": "code",
   "source": [
    "# Creation of the Global model object\n",
    "model_attributes[MODEL_GLOBAL_UPDATED_DP] = {}\n",
    "model_attributes[MODEL_GLOBAL_UPDATED_DP][\"trainer\"] = ModelTrainerFactory.create_model_trainer(model_type,\n",
    "                                                                                             ml_ready_dataset_path,\n",
    "                                                                                             Path(path_output).joinpath(\"model_training\"),\n",
    "                                                                                             max_pod=total_pods,\n",
    "                                                                                             epochs=epochs,\n",
    "                                                                                             target_column=get_target_column(augmentation),\n",
    "                                                                                             load_from_generated=True,\n",
    "                                                                                             model_name=MODEL_GLOBAL_UPDATED_DP)\n",
    "model_attributes[MODEL_GLOBAL_UPDATED_DP][\"trainer\"].prepare_directories()\n",
    "model_attributes[MODEL_GLOBAL_UPDATED_DP][\"df_train\"] = model_attributes[MODEL_GLOBAL][\"df_train\"].copy()\n",
    "model_attributes[MODEL_GLOBAL_UPDATED_DP][\"df_test\"] = model_attributes[MODEL_GLOBAL][\"df_test\"].copy()\n",
    "shutil.copytree(model_attributes[MODEL_GLOBAL][\"trainer\"].checkpoint_path.parent.parent.parent, model_attributes[MODEL_GLOBAL_UPDATED_DP][\"trainer\"].checkpoint_path.parent.parent.parent, dirs_exist_ok=True)\n",
    "\n",
    "TRAINING_RATIO = 1.0\n",
    "cached_train = model_attributes[MODEL_GLOBAL_UPDATED_DP][\"trainer\"].prepare_dataset(model_attributes[MODEL_GLOBAL_UPDATED_DP]['df_train'],\n",
    "                                                                                 template_resources_df, test_mode,\n",
    "                                                                                 training_size_ratio=TRAINING_RATIO,\n",
    "                                                                                 model_tag=MODEL_GLOBAL, dataset_type=\"train\")\n",
    "cached_test = model_attributes[MODEL_GLOBAL_UPDATED_DP][\"trainer\"].prepare_dataset(model_attributes[MODEL_GLOBAL_UPDATED_DP]['df_test'],\n",
    "                                                                                template_resources_df, test_mode,\n",
    "                                                                                training_size_ratio=TRAINING_RATIO,\n",
    "                                                                                model_tag=MODEL_GLOBAL, dataset_type=\"test\")\n",
    "model_attributes[MODEL_GLOBAL_UPDATED_DP][\"trainer\"].cached_train = cached_train\n",
    "model_attributes[MODEL_GLOBAL_UPDATED_DP][\"trainer\"].cached_test = cached_test\n",
    "\n",
    "\n",
    "model_attributes[MODEL_GLOBAL_UPDATED_DP][\"trainer\"].build_model()\n"
   ],
   "outputs": [
    {
     "name": "stdout",
     "output_type": "stream",
     "text": [
      "Creating model trainer\n",
      "Preparing directories\n"
     ]
    },
    {
     "data": {
      "text/plain": [
       "OrchestrationModel(\n",
       "  (config_embedding): Embedding(50, 8)\n",
       "  (config_embedding_dropout): Dropout(p=0.2, inplace=False)\n",
       "  (pod_embedding): Embedding(119547, 512)\n",
       "  (embedding_aggregator): EmbeddingAggregation()\n",
       "  (linear1): Linear(in_features=528, out_features=1024, bias=True)\n",
       "  (activation1): ReLU(inplace=True)\n",
       "  (batch_norm1): BatchNorm1d(1024, eps=1e-05, momentum=0.1, affine=True, track_running_stats=True)\n",
       "  (dropout1): Dropout(p=0.7, inplace=False)\n",
       "  (fc_layer1): Sequential(\n",
       "    (0): Linear(in_features=528, out_features=1024, bias=True)\n",
       "    (1): ReLU(inplace=True)\n",
       "    (2): BatchNorm1d(1024, eps=1e-05, momentum=0.1, affine=True, track_running_stats=True)\n",
       "    (3): Dropout(p=0.7, inplace=False)\n",
       "  )\n",
       "  (linear2): Linear(in_features=1024, out_features=512, bias=True)\n",
       "  (activation2): ReLU(inplace=True)\n",
       "  (batch_norm2): BatchNorm1d(512, eps=1e-05, momentum=0.1, affine=True, track_running_stats=True)\n",
       "  (dropout2): Dropout(p=0.35, inplace=False)\n",
       "  (fc_layer2): Sequential(\n",
       "    (0): Linear(in_features=1024, out_features=512, bias=True)\n",
       "    (1): ReLU(inplace=True)\n",
       "    (2): BatchNorm1d(512, eps=1e-05, momentum=0.1, affine=True, track_running_stats=True)\n",
       "    (3): Dropout(p=0.35, inplace=False)\n",
       "  )\n",
       "  (linear3): Linear(in_features=512, out_features=512, bias=True)\n",
       "  (activation3): ReLU(inplace=True)\n",
       "  (batch_norm): BatchNorm1d(512, eps=1e-05, momentum=0.1, affine=True, track_running_stats=True)\n",
       "  (dropout3): Dropout(p=0.35, inplace=False)\n",
       "  (fc_layer3): Sequential(\n",
       "    (0): Linear(in_features=512, out_features=512, bias=True)\n",
       "    (1): ReLU(inplace=True)\n",
       "    (2): BatchNorm1d(512, eps=1e-05, momentum=0.1, affine=True, track_running_stats=True)\n",
       "    (3): Dropout(p=0.35, inplace=False)\n",
       "  )\n",
       "  (head): Linear(in_features=512, out_features=50, bias=True)\n",
       ")"
      ]
     },
     "execution_count": 36,
     "metadata": {},
     "output_type": "execute_result"
    }
   ],
   "execution_count": 36
  },
  {
   "cell_type": "markdown",
   "metadata": {},
   "source": [
    "### 5. Performance evaluation"
   ]
  },
  {
   "cell_type": "code",
   "metadata": {
    "ExecuteTime": {
     "end_time": "2025-04-25T09:07:13.044062Z",
     "start_time": "2025-04-25T09:07:12.129507Z"
    }
   },
   "source": [
    "# load the updated model weights Ms' and evaluate the model with the common test subset\n",
    "from collections import OrderedDict\n",
    "\n",
    "# Unwrap the DP-weighted model (only one \"client\" in the list)\n",
    "dp_weights = model_global_weights_prime\n",
    "\n",
    "# Sanity check\n",
    "expected_keys = list(model_attributes[MODEL_GLOBAL_UPDATED_DP][\"trainer\"].orchestrator.state_dict().keys())\n",
    "assert len(expected_keys) == len(dp_weights), f\"Expected {len(expected_keys)} layers, got {len(dp_weights)}\"\n",
    "\n",
    "# Construct state_dict from DP weights\n",
    "model_global_weights_prime_dict = {\n",
    "    k: v.clone().detach().to(model_attributes[MODEL_GLOBAL_UPDATED_DP][\"trainer\"].orchestrator.state_dict()[k].device)\n",
    "    for k, v in zip(expected_keys, dp_weights)\n",
    "}\n",
    "\n",
    "# Load updated DP model\n",
    "model_attributes[MODEL_GLOBAL_UPDATED_DP][\"trainer\"].orchestrator.load_state_dict(OrderedDict(model_global_weights_prime_dict))\n",
    "model_attributes[MODEL_GLOBAL_UPDATED_DP][\"trainer\"].orchestrator.eval()\n",
    "\n",
    "model_attributes[MODEL_GLOBAL_UPDATED_DP][\"trainer\"].validate_model()\n",
    "model_attributes[MODEL_GLOBAL_UPDATED_DP][\"eval_results\"] = model_attributes[MODEL_GLOBAL_UPDATED_DP][\"trainer\"].evaluate()\n",
    "\n",
    "\n",
    "if model_type == MODEL_TYPES.CG:\n",
    "    results_df = pd.DataFrame(index=['accuracy', 'total_loss'], columns=FED_MODELS_TRAINED)\n",
    "\n",
    "    for model_name in FED_MODELS_TRAINED:\n",
    "        for metric, value in model_attributes[model_name][\"eval_results\"].items():\n",
    "            results_df.loc[metric, model_name] = value\n",
    "elif MODEL_TYPES.FLUIDOS_RANKER:\n",
    "    results_df = pd.DataFrame(index=['root_mean_squared_error','loss','regularization_loss','total_loss'], columns=FED_MODELS_TRAINED)\n",
    "\n",
    "    for model_name in FED_MODELS_TRAINED:\n",
    "        for metric, value in model_attributes[model_name][\"eval_results\"].items():\n",
    "            results_df.loc[metric, model_name] = value\n",
    "\n",
    "results_df"
   ],
   "outputs": [
    {
     "name": "stderr",
     "output_type": "stream",
     "text": [
      "(val) Epoch 0:   0%|          | 0/643 [00:00<?, ?batch/s, v_accuracy=0.5, val_loss=3.45] \n"
     ]
    },
    {
     "name": "stdout",
     "output_type": "stream",
     "text": [
      "(\"Evaluation results: {'total_loss': 3.2607388210889896, 'accuracy': \"\n",
      " '0.7017884914463453}')\n"
     ]
    },
    {
     "data": {
      "text/plain": [
       "           model_global   model_B   model_C model_global_updated  \\\n",
       "accuracy        0.54724  0.817263  0.777605             0.792768   \n",
       "total_loss     3.394439  3.128113  3.168161              3.15436   \n",
       "\n",
       "           model_global_updated_DP  \n",
       "accuracy                  0.701788  \n",
       "total_loss                3.260739  "
      ],
      "text/html": [
       "<div>\n",
       "<style scoped>\n",
       "    .dataframe tbody tr th:only-of-type {\n",
       "        vertical-align: middle;\n",
       "    }\n",
       "\n",
       "    .dataframe tbody tr th {\n",
       "        vertical-align: top;\n",
       "    }\n",
       "\n",
       "    .dataframe thead th {\n",
       "        text-align: right;\n",
       "    }\n",
       "</style>\n",
       "<table border=\"1\" class=\"dataframe\">\n",
       "  <thead>\n",
       "    <tr style=\"text-align: right;\">\n",
       "      <th></th>\n",
       "      <th>model_global</th>\n",
       "      <th>model_B</th>\n",
       "      <th>model_C</th>\n",
       "      <th>model_global_updated</th>\n",
       "      <th>model_global_updated_DP</th>\n",
       "    </tr>\n",
       "  </thead>\n",
       "  <tbody>\n",
       "    <tr>\n",
       "      <th>accuracy</th>\n",
       "      <td>0.54724</td>\n",
       "      <td>0.817263</td>\n",
       "      <td>0.777605</td>\n",
       "      <td>0.792768</td>\n",
       "      <td>0.701788</td>\n",
       "    </tr>\n",
       "    <tr>\n",
       "      <th>total_loss</th>\n",
       "      <td>3.394439</td>\n",
       "      <td>3.128113</td>\n",
       "      <td>3.168161</td>\n",
       "      <td>3.15436</td>\n",
       "      <td>3.260739</td>\n",
       "    </tr>\n",
       "  </tbody>\n",
       "</table>\n",
       "</div>"
      ]
     },
     "execution_count": 38,
     "metadata": {},
     "output_type": "execute_result"
    }
   ],
   "execution_count": 38
  },
  {
   "cell_type": "markdown",
   "metadata": {},
   "source": [
    "### 6. Plotting results"
   ]
  },
  {
   "cell_type": "code",
   "metadata": {
    "ExecuteTime": {
     "end_time": "2025-04-25T09:07:29.028977Z",
     "start_time": "2025-04-25T09:07:28.965917Z"
    }
   },
   "source": [
    "%matplotlib inline\n",
    "\n",
    "\n",
    "plt.figure(figsize=(10, 6))\n",
    "\n",
    "bar_width = 0.2\n",
    "bar_positions = np.arange(len(results_df.columns))\n",
    "\n",
    "\n",
    "for i, index in enumerate(results_df.index):\n",
    "    plt.bar(\n",
    "        bar_positions + i * bar_width,\n",
    "        results_df.loc[index],\n",
    "        width=bar_width,\n",
    "        label=index\n",
    "    )\n",
    "\n",
    "plt.xlabel('Models')\n",
    "plt.ylabel('Metrics')\n",
    "plt.title('Model Performance')\n",
    "plt.xticks(bar_positions + bar_width, results_df.columns, rotation='vertical')\n",
    "plt.legend(title='Indices', loc='lower right')\n",
    "\n",
    "plt.show()\n"
   ],
   "outputs": [
    {
     "data": {
      "text/plain": [
       "<Figure size 1000x600 with 1 Axes>"
      ],
      "image/png": "[encoded data removed]"
     },
     "metadata": {},
     "output_type": "display_data"
    }
   ],
   "execution_count": 39
  },
  {
   "cell_type": "code",
   "execution_count": null,
   "metadata": {},
   "outputs": [],
   "source": []
  },
  {
   "cell_type": "code",
   "execution_count": null,
   "metadata": {},
   "outputs": [],
   "source": []
  }
 ],
 "metadata": {
  "kernelspec": {
   "display_name": "Python (fluidos-venv)",
   "language": "python",
   "name": "fluidos-venv"
  },
  "language_info": {
   "codemirror_mode": {
    "name": "ipython",
    "version": 3
   },
   "file_extension": ".py",
   "mimetype": "text/x-python",
   "name": "python",
   "nbconvert_exporter": "python",
   "pygments_lexer": "ipython3",
   "version": "3.11.1"
  }
 },
 "nbformat": 4,
 "nbformat_minor": 4
}
