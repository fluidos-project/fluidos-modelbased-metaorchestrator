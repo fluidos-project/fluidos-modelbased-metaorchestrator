{
 "cells": [
  {
   "cell_type": "code",
   "execution_count": 1,
   "metadata": {
    "tags": []
   },
   "outputs": [
    {
     "data": {
      "text/plain": [
       "'\\npip install ipywidgets --upgrade\\n'"
      ]
     },
     "execution_count": 1,
     "metadata": {},
     "output_type": "execute_result"
    }
   ],
   "source": [
    "'''\n",
    "pip install ipywidgets --upgrade\n",
    "'''"
   ]
  },
  {
   "cell_type": "code",
   "execution_count": null,
   "metadata": {
    "tags": []
   },
   "outputs": [],
   "source": [
    "\n",
    "# %pip install ipywidgets --upgrade\n",
    "# %pip install -r ../requirements-dev.txt  # to install the orchestrator package\n",
    "# %pip install -U ../.  # to install the orchestrator package"
   ]
  },
  {
   "cell_type": "markdown",
   "metadata": {},
   "source": []
  },
  {
   "cell_type": "code",
   "execution_count": null,
   "metadata": {
    "tags": []
   },
   "outputs": [],
   "source": [
    "import os\n",
    "from pathlib import Path\n",
    "import sys\n",
    "base_path = Path(os.path.abspath(\"\")).parent\n",
    "sys.path.append(base_path.as_posix())\n",
    "base_path.as_posix()"
   ]
  },
  {
   "cell_type": "code",
   "execution_count": 5,
   "metadata": {
    "tags": []
   },
   "outputs": [],
   "source": [
    "\n",
    "import logging\n",
    "import random\n",
    "import shutil\n",
    "from pathlib import Path\n",
    "from typing import Any\n",
    "import os\n",
    "\n",
    "import numpy as np  # type: ignore\n",
    "import pandas as pd # type: ignore\n",
    "import tensorflow as tf  # type: ignore\n",
    "import torch  # type: ignore\n",
    "import matplotlib.pyplot as plt\n",
    "\n",
    "from fluidos_model_orchestrator.data_pipeline.augmentation.augmentation_utils import AUGMENTATION_TYPES\n",
    "from fluidos_model_orchestrator.data_pipeline.data_util import FLUIDOS_DATASETS\n",
    "from fluidos_model_orchestrator.data_pipeline.data_util import get_target_column\n",
    "from fluidos_model_orchestrator.data_pipeline.data_util import load_ml_ready_df\n",
    "from fluidos_model_orchestrator.model.utils import MODEL_TYPES\n",
    "from fluidos_model_orchestrator.model_pipeline.model_trainer_factory import ModelTrainerFactory\n",
    "from fluidos_model_orchestrator.model.utils import FLUIDOS_COL_NAMES\n",
    "\n",
    "import ipywidgets as widgets\n",
    "widgets.IntSlider()\n",
    "\n",
    "tf.random.set_seed(42)\n",
    "torch.manual_seed(42)\n",
    "random.seed(42)"
   ]
  },
  {
   "cell_type": "markdown",
   "metadata": {},
   "source": [
    "## Hyperparameters"
   ]
  },
  {
   "cell_type": "code",
   "execution_count": 6,
   "metadata": {
    "tags": []
   },
   "outputs": [],
   "source": [
    "ROOT_DIR = Path(os.getcwd()).parent.parent\n",
    "\n",
    "platform = \"ccc\"  # \"local\"\n",
    "dataset_name = FLUIDOS_DATASETS.BITBRAINS  # FLUIDOS_DATASETS.GCT\n",
    "model_type = MODEL_TYPES.CG  # MODEL_TYPES.FLUIDOS_RANKER\n",
    "augmentation = AUGMENTATION_TYPES.FEEDBACK_LOOP  # AUGMENTATION_TYPES.PERFORMANCE_RATING\n",
    "\n",
    "epochs = 5\n",
    "load_from_generated = 0\n",
    "test_mode = False\n",
    "max_pod = 2000\n",
    "tr_number = 50 # -1 for gct\n",
    "\n",
    "path_output_model = \"<INSERT_YOUR_PATH_HERE>\"\n",
    "path_output = \"<INSERT_YOUR_PATH_HERE>\"\n",
    "\n",
    "dataset_subset = \"rnd\"\n",
    "\n",
    "#DATASETS can be downloaded here: https://drive.google.com/drive/folders/13sNpT5ycd7XHPFcpEHEVQ1RtctMQADcK\n",
    "path_dataset_ml_ready = \"<INSERT_YOUR_PATH_HERE>\"\n",
    "# path_dataset_ml_ready = \"<INSERT_YOUR_PATH_HERE>/ibm_telefonica_dataset\"\n",
    "\n",
    "MODEL_GLOBAL = \"model_global\"\n",
    "MODEL_GLOBAL_UPDATED = \"model_global_updated\"\n",
    "FED_MODELS_TRAINED = [MODEL_GLOBAL, \"model_B\", \"model_C\"]"
   ]
  },
  {
   "cell_type": "markdown",
   "metadata": {},
   "source": []
  },
  {
   "cell_type": "code",
   "execution_count": 7,
   "metadata": {
    "tags": []
   },
   "outputs": [],
   "source": [
    "def split_dataset(df: pd.DataFrame, model_names: list[str], model_source_name: str, train_ratio: float = 0.2, test_ratio: float = 0.05) -> dict[str, dict[str, Any]]:\n",
    "\n",
    "    manifests = df[[FLUIDOS_COL_NAMES.POD_FILE_NAME, FLUIDOS_COL_NAMES.POD_MANIFEST]]\n",
    "    counts = manifests[FLUIDOS_COL_NAMES.POD_MANIFEST].value_counts().to_dict()\n",
    "    # Estimation of pod manifests distribution\n",
    "    frequency_per_pod = []\n",
    "    for index, row in manifests.iterrows():\n",
    "        frequency_per_pod.append(counts[row[FLUIDOS_COL_NAMES.POD_MANIFEST]])\n",
    "\n",
    "    manifests.insert(2, \"frequency\", frequency_per_pod)\n",
    "    manifests = manifests.sort_values(by=\"frequency\", ascending=False)\n",
    "    manifests[\"frequency\"] = manifests[\"frequency\"] / len(manifests)\n",
    "    manifests.index = range(len(manifests.index))\n",
    "    manifests = manifests.reset_index()\n",
    "\n",
    "    manifests_size = len(manifests)\n",
    "\n",
    "    train_size = int(train_ratio * manifests_size)\n",
    "    test_size = int(test_ratio * manifests_size) \n",
    "    test_manifests = manifests.sample(test_size)\n",
    "\n",
    "    train_manifests = manifests[:train_size]\n",
    "    local_manifests = manifests[train_size:]\n",
    "\n",
    "    train_pods = df[df[FLUIDOS_COL_NAMES.POD_FILE_NAME].isin(train_manifests[FLUIDOS_COL_NAMES.POD_FILE_NAME])]\n",
    "    local_pods = df[df[FLUIDOS_COL_NAMES.POD_FILE_NAME].isin(local_manifests[FLUIDOS_COL_NAMES.POD_FILE_NAME])]\n",
    "    test_pods = df[df[FLUIDOS_COL_NAMES.POD_FILE_NAME].isin(test_manifests[FLUIDOS_COL_NAMES.POD_FILE_NAME])]\n",
    "    split_size = len(local_pods) // (len(model_names) - 1)\n",
    "    local_pods_chunks = [local_pods[i:i + split_size] for i in range(0, len(local_pods), split_size)]\n",
    "\n",
    "    model_attributes = {}\n",
    "    model_attributes[MODEL_GLOBAL] = {\"df_train\": train_pods, \"df_test\": test_pods}\n",
    "    for index, model_name in enumerate(model_names[1:]):\n",
    "        model_attributes[model_name] = {\"df_train\": local_pods_chunks[index],\n",
    "                                        \"df_test\": test_pods}\n",
    "            \n",
    "    return model_attributes"
   ]
  },
  {
   "cell_type": "markdown",
   "metadata": {},
   "source": [
    "## Preparing Datasets"
   ]
  },
  {
   "cell_type": "code",
   "execution_count": null,
   "metadata": {
    "tags": []
   },
   "outputs": [],
   "source": [
    "logging.info(\"Starting Model Building and Training\")\n",
    "\n",
    "ml_ready_dataset_path = Path(path_dataset_ml_ready)\n",
    "\n",
    "pods_assigment_df, template_resources_df = load_ml_ready_df(ml_ready_dataset_path)\n",
    "\n",
    "#TODO TMP - remove this when all tested \n",
    "# pods_assigment_df = pods_assigment_df[:10000]\n",
    "\n",
    "model_attributes = split_dataset(pods_assigment_df, FED_MODELS_TRAINED, MODEL_GLOBAL)"
   ]
  },
  {
   "cell_type": "markdown",
   "metadata": {},
   "source": [
    "pods_assigment_df## Setting up model Trainers"
   ]
  },
  {
   "cell_type": "code",
   "execution_count": null,
   "metadata": {
    "tags": []
   },
   "outputs": [],
   "source": [
    "# Time consuming step for the first run, if run for the second time set load_from_generated=True at the beginning of the notebook\n",
    "if dataset_name == FLUIDOS_DATASETS.BITBRAINS:\n",
    "    total_pods = max_pod * tr_number\n",
    "else:\n",
    "    total_pods = max_pod\n",
    "    \n",
    "for model_name in FED_MODELS_TRAINED:\n",
    "    model_trainer = ModelTrainerFactory.create_model_trainer(model_type,\n",
    "                                                             ml_ready_dataset_path,\n",
    "                                                             Path(path_output).joinpath(\"model_training\"),\n",
    "                                                             max_pod=total_pods,\n",
    "                                                             epochs=epochs,\n",
    "                                                             target_column=get_target_column(augmentation),\n",
    "                                                             load_from_generated=load_from_generated,\n",
    "                                                             model_name=model_name)\n",
    "    model_trainer.prepare_directories()\n",
    "    model_attributes[model_name][\"trainer\"] = model_trainer\n",
    "\n",
    "for model_name in FED_MODELS_TRAINED:\n",
    "    TRAINING_RATIO = 1.0\n",
    "    cached_train = model_attributes[model_name][\"trainer\"].prepare_dataset(model_attributes[model_name]['df_train'],\n",
    "                                                                           template_resources_df, test_mode,\n",
    "                                                                           training_size_ratio=TRAINING_RATIO,\n",
    "                                                                           model_tag=model_name, dataset_type=\"train\")\n",
    "    cached_test = model_attributes[model_name][\"trainer\"].prepare_dataset(model_attributes[model_name]['df_test'],\n",
    "                                                                          template_resources_df, test_mode,\n",
    "                                                                          training_size_ratio=TRAINING_RATIO,\n",
    "                                                                          model_tag=model_name, dataset_type=\"test\")\n",
    "    model_attributes[model_name][\"trainer\"].cached_train = cached_train\n",
    "    model_attributes[model_name][\"trainer\"].cached_test = cached_test"
   ]
  },
  {
   "cell_type": "markdown",
   "metadata": {},
   "source": [
    "## Training Global model"
   ]
  },
  {
   "cell_type": "code",
   "execution_count": 10,
   "metadata": {
    "tags": []
   },
   "outputs": [
    {
     "name": "stdout",
     "output_type": "stream",
     "text": [
      "Training...\n"
     ]
    },
    {
     "name": "stderr",
     "output_type": "stream",
     "text": [
      "Epoch 0: 100%|██████████| 2500/2500 [00:25<00:00, 98.04batch/s, accuracy=1, loss=2.95]    \n"
     ]
    },
    {
     "name": "stdout",
     "output_type": "stream",
     "text": [
      "Epoch 0, train loss 3.0801 Accuracy 0.9 LR: [0.0001]\n"
     ]
    },
    {
     "name": "stderr",
     "output_type": "stream",
     "text": [
      "(val) Epoch 0:   0%|          | 0/641 [00:02<?, ?batch/s, v_accuracy=0.5, val_loss=3.51] \n"
     ]
    },
    {
     "name": "stdout",
     "output_type": "stream",
     "text": [
      "Epoch 0, val loss 3.467 Accuracy 0.48\n",
      "Current minimal val loss is 3.467043201934529.\n"
     ]
    },
    {
     "name": "stderr",
     "output_type": "stream",
     "text": [
      "Epoch 1: 100%|██████████| 2500/2500 [00:22<00:00, 110.52batch/s, accuracy=1, loss=2.95]   \n"
     ]
    },
    {
     "name": "stdout",
     "output_type": "stream",
     "text": [
      "Epoch 1, train loss 2.9722 Accuracy 0.97 LR: [0.0001]\n"
     ]
    },
    {
     "name": "stderr",
     "output_type": "stream",
     "text": [
      "(val) Epoch 1:   0%|          | 0/641 [00:02<?, ?batch/s, v_accuracy=0.25, val_loss=3.69]\n"
     ]
    },
    {
     "name": "stdout",
     "output_type": "stream",
     "text": [
      "Epoch 1, val loss 3.4219 Accuracy 0.52\n",
      "Current minimal val loss is 3.421890474146874.\n"
     ]
    },
    {
     "name": "stderr",
     "output_type": "stream",
     "text": [
      "Epoch 2: 100%|██████████| 2500/2500 [00:22<00:00, 111.46batch/s, accuracy=1, loss=2.95]   \n"
     ]
    },
    {
     "name": "stdout",
     "output_type": "stream",
     "text": [
      "Epoch 2, train loss 2.9686 Accuracy 0.98 LR: [1e-05]\n"
     ]
    },
    {
     "name": "stderr",
     "output_type": "stream",
     "text": [
      "(val) Epoch 2:   0%|          | 0/641 [00:02<?, ?batch/s, v_accuracy=0.38, val_loss=3.57]\n"
     ]
    },
    {
     "name": "stdout",
     "output_type": "stream",
     "text": [
      "Epoch 2, val loss 3.406 Accuracy 0.54\n",
      "Current minimal val loss is 3.4059774414425523.\n"
     ]
    },
    {
     "name": "stderr",
     "output_type": "stream",
     "text": [
      "Epoch 3: 100%|██████████| 2500/2500 [00:22<00:00, 112.53batch/s, accuracy=1, loss=2.95]   \n"
     ]
    },
    {
     "name": "stdout",
     "output_type": "stream",
     "text": [
      "Epoch 3, train loss 2.9676 Accuracy 0.98 LR: [1e-05]\n"
     ]
    },
    {
     "name": "stderr",
     "output_type": "stream",
     "text": [
      "(val) Epoch 3:   0%|          | 0/641 [00:02<?, ?batch/s, v_accuracy=0.62, val_loss=3.32]\n"
     ]
    },
    {
     "name": "stdout",
     "output_type": "stream",
     "text": [
      "Epoch 3, val loss 3.4054 Accuracy 0.54\n",
      "Current minimal val loss is 3.4053735413157065.\n"
     ]
    },
    {
     "name": "stderr",
     "output_type": "stream",
     "text": [
      "Epoch 4: 100%|██████████| 2500/2500 [00:21<00:00, 113.77batch/s, accuracy=1, loss=2.95]   \n"
     ]
    },
    {
     "name": "stdout",
     "output_type": "stream",
     "text": [
      "Epoch 4, train loss 2.9676 Accuracy 0.98 LR: [1e-05]\n"
     ]
    },
    {
     "name": "stderr",
     "output_type": "stream",
     "text": [
      "(val) Epoch 4:   0%|          | 0/641 [00:02<?, ?batch/s, v_accuracy=0.75, val_loss=3.2] \n"
     ]
    },
    {
     "name": "stdout",
     "output_type": "stream",
     "text": [
      "Epoch 4, val loss 3.4055 Accuracy 0.54\n",
      "(\"Evaluation results: {'total_loss': 3.4054752348365724, 'accuracy': \"\n",
      " '0.5399765990639626}')\n"
     ]
    }
   ],
   "source": [
    "\n",
    "model_attributes[MODEL_GLOBAL][\"trainer\"].build_model()\n",
    "model_attributes[MODEL_GLOBAL][\"trainer\"].check_model_dataset_depencies()\n",
    "model_attributes[MODEL_GLOBAL][\"trainer\"].train_model()\n",
    "model_attributes[MODEL_GLOBAL][\"eval_results\"] = model_attributes[MODEL_GLOBAL][\"trainer\"].evaluate()\n",
    "\n",
    "for model_name in FED_MODELS_TRAINED:\n",
    "    if model_name == MODEL_GLOBAL:\n",
    "        continue\n",
    "    shutil.copytree(model_attributes[MODEL_GLOBAL][\"trainer\"].checkpoint_path.parent.parent.parent, model_attributes[model_name][\"trainer\"].checkpoint_path.parent.parent.parent, dirs_exist_ok=True)"
   ]
  },
  {
   "cell_type": "markdown",
   "metadata": {},
   "source": [
    "## Training Child Models from Global Model"
   ]
  },
  {
   "cell_type": "code",
   "execution_count": 11,
   "metadata": {
    "tags": []
   },
   "outputs": [
    {
     "name": "stdout",
     "output_type": "stream",
     "text": [
      "model_B\n",
      "Training...\n"
     ]
    },
    {
     "name": "stderr",
     "output_type": "stream",
     "text": [
      "Epoch 0: 100%|██████████| 5000/5000 [00:43<00:00, 114.80batch/s, accuracy=0.88, loss=3.07]\n"
     ]
    },
    {
     "name": "stdout",
     "output_type": "stream",
     "text": [
      "Epoch 0, train loss 3.3291 Accuracy 0.62 LR: [0.0001]\n"
     ]
    },
    {
     "name": "stderr",
     "output_type": "stream",
     "text": [
      "(val) Epoch 0:   0%|          | 0/641 [00:02<?, ?batch/s, v_accuracy=1, val_loss=2.95]   \n"
     ]
    },
    {
     "name": "stdout",
     "output_type": "stream",
     "text": [
      "Epoch 0, val loss 3.1893 Accuracy 0.76\n",
      "Current minimal val loss is 3.189333543018692.\n"
     ]
    },
    {
     "name": "stderr",
     "output_type": "stream",
     "text": [
      "Epoch 1: 100%|██████████| 5000/5000 [00:43<00:00, 115.98batch/s, accuracy=0.88, loss=3.07]\n"
     ]
    },
    {
     "name": "stdout",
     "output_type": "stream",
     "text": [
      "Epoch 1, train loss 3.2146 Accuracy 0.73 LR: [0.0001]\n"
     ]
    },
    {
     "name": "stderr",
     "output_type": "stream",
     "text": [
      "(val) Epoch 1:   0%|          | 0/641 [00:02<?, ?batch/s, v_accuracy=0.38, val_loss=3.57]\n"
     ]
    },
    {
     "name": "stdout",
     "output_type": "stream",
     "text": [
      "Epoch 1, val loss 3.1841 Accuracy 0.76\n",
      "Current minimal val loss is 3.1840958628751186.\n"
     ]
    },
    {
     "name": "stderr",
     "output_type": "stream",
     "text": [
      "Epoch 2: 100%|██████████| 5000/5000 [00:46<00:00, 108.67batch/s, accuracy=1, loss=2.95]   \n"
     ]
    },
    {
     "name": "stdout",
     "output_type": "stream",
     "text": [
      "Epoch 2, train loss 3.2097 Accuracy 0.74 LR: [1e-05]\n"
     ]
    },
    {
     "name": "stderr",
     "output_type": "stream",
     "text": [
      "(val) Epoch 2:   0%|          | 0/641 [00:02<?, ?batch/s, v_accuracy=0.62, val_loss=3.28]\n"
     ]
    },
    {
     "name": "stdout",
     "output_type": "stream",
     "text": [
      "Epoch 2, val loss 3.1859 Accuracy 0.76\n"
     ]
    },
    {
     "name": "stderr",
     "output_type": "stream",
     "text": [
      "Epoch 3: 100%|██████████| 5000/5000 [00:47<00:00, 105.10batch/s, accuracy=0.75, loss=3.19]\n"
     ]
    },
    {
     "name": "stdout",
     "output_type": "stream",
     "text": [
      "Epoch 3, train loss 3.1969 Accuracy 0.75 LR: [1e-05]\n"
     ]
    },
    {
     "name": "stderr",
     "output_type": "stream",
     "text": [
      "(val) Epoch 3:   0%|          | 0/641 [00:02<?, ?batch/s, v_accuracy=0.88, val_loss=3.07]\n"
     ]
    },
    {
     "name": "stdout",
     "output_type": "stream",
     "text": [
      "Epoch 3, val loss 3.1837 Accuracy 0.76\n",
      "Current minimal val loss is 3.1837276895407025.\n"
     ]
    },
    {
     "name": "stderr",
     "output_type": "stream",
     "text": [
      "Epoch 4: 100%|██████████| 5000/5000 [00:49<00:00, 100.85batch/s, accuracy=0.75, loss=3.19]\n"
     ]
    },
    {
     "name": "stdout",
     "output_type": "stream",
     "text": [
      "Epoch 4, train loss 3.1966 Accuracy 0.75 LR: [1e-05]\n"
     ]
    },
    {
     "name": "stderr",
     "output_type": "stream",
     "text": [
      "(val) Epoch 4:   0%|          | 0/641 [00:02<?, ?batch/s, v_accuracy=0.62, val_loss=3.32]\n"
     ]
    },
    {
     "name": "stdout",
     "output_type": "stream",
     "text": [
      "Epoch 4, val loss 3.1836 Accuracy 0.76\n",
      "Current minimal val loss is 3.1836354680440726.\n",
      "(\"Evaluation results: {'total_loss': 3.1836354680440726, 'accuracy': \"\n",
      " '0.7611154446177847}')\n",
      "model_C\n",
      "Training...\n"
     ]
    },
    {
     "name": "stderr",
     "output_type": "stream",
     "text": [
      "Epoch 0: 100%|██████████| 5000/5000 [01:01<00:00, 81.91batch/s, accuracy=0.75, loss=3.2]  \n"
     ]
    },
    {
     "name": "stdout",
     "output_type": "stream",
     "text": [
      "Epoch 0, train loss 3.2133 Accuracy 0.73 LR: [0.0001]\n"
     ]
    },
    {
     "name": "stderr",
     "output_type": "stream",
     "text": [
      "(val) Epoch 0:   0%|          | 0/641 [00:03<?, ?batch/s, v_accuracy=0.62, val_loss=3.32]\n"
     ]
    },
    {
     "name": "stdout",
     "output_type": "stream",
     "text": [
      "Epoch 0, val loss 3.3299 Accuracy 0.62\n",
      "Current minimal val loss is 3.3298555432169374.\n"
     ]
    },
    {
     "name": "stderr",
     "output_type": "stream",
     "text": [
      "Epoch 1: 100%|██████████| 5000/5000 [01:08<00:00, 73.14batch/s, accuracy=0.5, loss=3.44]  \n"
     ]
    },
    {
     "name": "stdout",
     "output_type": "stream",
     "text": [
      "Epoch 1, train loss 3.1771 Accuracy 0.77 LR: [0.0001]\n"
     ]
    },
    {
     "name": "stderr",
     "output_type": "stream",
     "text": [
      "(val) Epoch 1:   0%|          | 0/641 [00:02<?, ?batch/s, v_accuracy=0.75, val_loss=3.2] \n"
     ]
    },
    {
     "name": "stdout",
     "output_type": "stream",
     "text": [
      "Epoch 1, val loss 3.3385 Accuracy 0.61\n"
     ]
    },
    {
     "name": "stderr",
     "output_type": "stream",
     "text": [
      "Epoch 2: 100%|██████████| 5000/5000 [00:46<00:00, 106.45batch/s, accuracy=0.75, loss=3.2] \n"
     ]
    },
    {
     "name": "stdout",
     "output_type": "stream",
     "text": [
      "Epoch 2, train loss 3.2037 Accuracy 0.74 LR: [1e-05]\n"
     ]
    },
    {
     "name": "stderr",
     "output_type": "stream",
     "text": [
      "(val) Epoch 2:   0%|          | 0/641 [00:02<?, ?batch/s, v_accuracy=0.62, val_loss=3.32]\n"
     ]
    },
    {
     "name": "stdout",
     "output_type": "stream",
     "text": [
      "Epoch 2, val loss 3.3168 Accuracy 0.63\n",
      "Current minimal val loss is 3.316786613553623.\n"
     ]
    },
    {
     "name": "stderr",
     "output_type": "stream",
     "text": [
      "Epoch 3: 100%|██████████| 5000/5000 [00:46<00:00, 108.13batch/s, accuracy=0.88, loss=3.07]\n"
     ]
    },
    {
     "name": "stdout",
     "output_type": "stream",
     "text": [
      "Epoch 3, train loss 3.2162 Accuracy 0.73 LR: [1e-05]\n"
     ]
    },
    {
     "name": "stderr",
     "output_type": "stream",
     "text": [
      "(val) Epoch 3:   0%|          | 0/641 [00:02<?, ?batch/s, v_accuracy=0.25, val_loss=3.69]\n"
     ]
    },
    {
     "name": "stdout",
     "output_type": "stream",
     "text": [
      "Epoch 3, val loss 3.3167 Accuracy 0.63\n",
      "Current minimal val loss is 3.3166690962548935.\n"
     ]
    },
    {
     "name": "stderr",
     "output_type": "stream",
     "text": [
      "Epoch 4: 100%|██████████| 5000/5000 [00:46<00:00, 108.30batch/s, accuracy=0.88, loss=3.07]\n"
     ]
    },
    {
     "name": "stdout",
     "output_type": "stream",
     "text": [
      "Epoch 4, train loss 3.2162 Accuracy 0.73 LR: [1e-05]\n"
     ]
    },
    {
     "name": "stderr",
     "output_type": "stream",
     "text": [
      "(val) Epoch 4:   0%|          | 0/641 [00:02<?, ?batch/s, v_accuracy=0.75, val_loss=3.2] \n"
     ]
    },
    {
     "name": "stdout",
     "output_type": "stream",
     "text": [
      "Epoch 4, val loss 3.3153 Accuracy 0.63\n",
      "Current minimal val loss is 3.315338502250112.\n",
      "(\"Evaluation results: {'total_loss': 3.315338502250112, 'accuracy': \"\n",
      " '0.6290951638065523}')\n"
     ]
    }
   ],
   "source": [
    "for model_name in FED_MODELS_TRAINED:\n",
    "    if model_name == MODEL_GLOBAL:\n",
    "        continue\n",
    "    print(model_name)\n",
    "    model_attributes[model_name][\"trainer\"].load_model(load_from_checkpoint=True)  # type: ignore\n",
    "    model_attributes[model_name][\"trainer\"].train_model()\n",
    "    model_attributes[model_name][\"eval_results\"] = model_attributes[model_name][\"trainer\"].evaluate()\n",
    "\n",
    "logging.info(\"MODELS Evaluation Results\")\n",
    "for model_name in FED_MODELS_TRAINED:\n",
    "    if \"eval_results\" in model_attributes[model_name]:\n",
    "        logging.info(f\"MODEL: {model_name}: {model_attributes[model_name]['eval_results']}\")\n",
    "\n",
    "logging.info(f\"Pipeline output located at: {path_output_model}\")\n"
   ]
  },
  {
   "cell_type": "markdown",
   "metadata": {},
   "source": [
    "## Federated Learning POC\n",
    "\n",
    "Idea: send averaged updates from model_B(Mb) and model_C(Mc) to update the model_global (Ms -> Ms')."
   ]
  },
  {
   "cell_type": "code",
   "execution_count": 12,
   "metadata": {},
   "outputs": [],
   "source": [
    "FED_MODELS_TRAINED.append(MODEL_GLOBAL_UPDATED)"
   ]
  },
  {
   "cell_type": "code",
   "execution_count": 13,
   "metadata": {
    "tags": []
   },
   "outputs": [],
   "source": [
    "# Generation of averaged local model updates\n",
    "model_source_weights = model_attributes[MODEL_GLOBAL][\"trainer\"].orchestrator.state_dict().values()\n",
    "model_B_weights = model_attributes['model_B'][\"trainer\"].orchestrator.state_dict().values()\n",
    "model_C_weights = model_attributes['model_C'][\"trainer\"].orchestrator.state_dict().values()\n",
    "\n",
    "model_b_s_update = [(x - y) for x, y in zip(model_B_weights, model_source_weights)]\n",
    "model_c_s_update = [(x - y) for x, y in zip(model_C_weights, model_source_weights)]\n",
    "averaged_update = [0.5*(x + y) for x, y in zip(model_b_s_update, model_c_s_update)]\n",
    "# updated weights: Ms’ = Ms + 0.5*((Ms-Mb) + (Ms-Mc))\n",
    "model_global_weights = [x + y for x, y in zip(averaged_update, model_source_weights)]\n"
   ]
  },
  {
   "cell_type": "code",
   "execution_count": 15,
   "metadata": {},
   "outputs": [
    {
     "name": "stdout",
     "output_type": "stream",
     "text": [
      "Creating model trainer\n",
      "Preparing directories\n"
     ]
    },
    {
     "data": {
      "text/plain": [
       "OrchestrationModel(\n",
       "  (config_embedding): Embedding(50, 8)\n",
       "  (config_embedding_dropout): Dropout(p=0.2, inplace=False)\n",
       "  (pod_embedding): Embedding(119547, 512)\n",
       "  (embedding_aggregator): EmbeddingAggregation()\n",
       "  (linear1): Linear(in_features=528, out_features=1024, bias=True)\n",
       "  (activation1): ReLU(inplace=True)\n",
       "  (batch_norm1): BatchNorm1d(1024, eps=1e-05, momentum=0.1, affine=True, track_running_stats=True)\n",
       "  (dropout1): Dropout(p=0.7, inplace=False)\n",
       "  (fc_layer1): Sequential(\n",
       "    (0): Linear(in_features=528, out_features=1024, bias=True)\n",
       "    (1): ReLU(inplace=True)\n",
       "    (2): BatchNorm1d(1024, eps=1e-05, momentum=0.1, affine=True, track_running_stats=True)\n",
       "    (3): Dropout(p=0.7, inplace=False)\n",
       "  )\n",
       "  (linear2): Linear(in_features=1024, out_features=512, bias=True)\n",
       "  (activation2): ReLU(inplace=True)\n",
       "  (batch_norm2): BatchNorm1d(512, eps=1e-05, momentum=0.1, affine=True, track_running_stats=True)\n",
       "  (dropout2): Dropout(p=0.35, inplace=False)\n",
       "  (fc_layer2): Sequential(\n",
       "    (0): Linear(in_features=1024, out_features=512, bias=True)\n",
       "    (1): ReLU(inplace=True)\n",
       "    (2): BatchNorm1d(512, eps=1e-05, momentum=0.1, affine=True, track_running_stats=True)\n",
       "    (3): Dropout(p=0.35, inplace=False)\n",
       "  )\n",
       "  (linear3): Linear(in_features=512, out_features=512, bias=True)\n",
       "  (activation3): ReLU(inplace=True)\n",
       "  (batch_norm): BatchNorm1d(512, eps=1e-05, momentum=0.1, affine=True, track_running_stats=True)\n",
       "  (dropout3): Dropout(p=0.35, inplace=False)\n",
       "  (fc_layer3): Sequential(\n",
       "    (0): Linear(in_features=512, out_features=512, bias=True)\n",
       "    (1): ReLU(inplace=True)\n",
       "    (2): BatchNorm1d(512, eps=1e-05, momentum=0.1, affine=True, track_running_stats=True)\n",
       "    (3): Dropout(p=0.35, inplace=False)\n",
       "  )\n",
       "  (head): Linear(in_features=512, out_features=50, bias=True)\n",
       ")"
      ]
     },
     "execution_count": 15,
     "metadata": {},
     "output_type": "execute_result"
    }
   ],
   "source": [
    "# Creation of the Global model object\n",
    "model_attributes[MODEL_GLOBAL_UPDATED] = {}\n",
    "model_attributes[MODEL_GLOBAL_UPDATED][\"trainer\"] = ModelTrainerFactory.create_model_trainer(model_type,\n",
    "                                                                                             ml_ready_dataset_path,\n",
    "                                                                                             Path(path_output).joinpath(\"model_training\"),\n",
    "                                                                                             max_pod=total_pods,\n",
    "                                                                                             epochs=epochs,\n",
    "                                                                                             target_column=get_target_column(augmentation),\n",
    "                                                                                             load_from_generated=True,\n",
    "                                                                                             model_name=MODEL_GLOBAL_UPDATED)\n",
    "model_attributes[MODEL_GLOBAL_UPDATED][\"trainer\"].prepare_directories()\n",
    "model_attributes[MODEL_GLOBAL_UPDATED][\"df_train\"] = model_attributes[MODEL_GLOBAL][\"df_train\"].copy()\n",
    "model_attributes[MODEL_GLOBAL_UPDATED][\"df_test\"] = model_attributes[MODEL_GLOBAL][\"df_test\"].copy()\n",
    "shutil.copytree(model_attributes[MODEL_GLOBAL][\"trainer\"].checkpoint_path.parent.parent.parent, model_attributes[MODEL_GLOBAL_UPDATED][\"trainer\"].checkpoint_path.parent.parent.parent, dirs_exist_ok=True)\n",
    "\n",
    "TRAINING_RATIO = 1.0\n",
    "cached_train = model_attributes[MODEL_GLOBAL_UPDATED][\"trainer\"].prepare_dataset(model_attributes[MODEL_GLOBAL]['df_train'],\n",
    "                                                                                 template_resources_df, test_mode,\n",
    "                                                                                 training_size_ratio=TRAINING_RATIO,\n",
    "                                                                                 model_tag=MODEL_GLOBAL, dataset_type=\"train\")\n",
    "cached_test = model_attributes[MODEL_GLOBAL_UPDATED][\"trainer\"].prepare_dataset(model_attributes[MODEL_GLOBAL]['df_test'],\n",
    "                                                                                template_resources_df, test_mode,\n",
    "                                                                                training_size_ratio=TRAINING_RATIO,\n",
    "                                                                                model_tag=MODEL_GLOBAL, dataset_type=\"test\")\n",
    "model_attributes[model_name][\"trainer\"].cached_train = cached_train\n",
    "model_attributes[model_name][\"trainer\"].cached_test = cached_test\n",
    "    \n",
    "    \n",
    "model_attributes[MODEL_GLOBAL_UPDATED][\"trainer\"].build_model()"
   ]
  },
  {
   "cell_type": "code",
   "execution_count": 16,
   "metadata": {
    "tags": []
   },
   "outputs": [
    {
     "name": "stderr",
     "output_type": "stream",
     "text": [
      "(val) Epoch 0:   0%|          | 0/641 [00:02<?, ?batch/s, v_accuracy=0.88, val_loss=3.07]\n"
     ]
    },
    {
     "name": "stdout",
     "output_type": "stream",
     "text": [
      "(\"Evaluation results: {'total_loss': 3.1751974696488166, 'accuracy': \"\n",
      " '0.7767160686427457}')\n"
     ]
    }
   ],
   "source": [
    "# load the updated model weights Ms' and evluate the model with the common test subset\n",
    "from collections import OrderedDict\n",
    "\n",
    "model_global_weights_dict = {}\n",
    "index = 0\n",
    "for key in model_attributes[MODEL_GLOBAL_UPDATED][\"trainer\"].orchestrator.state_dict():\n",
    "    model_global_weights_dict[key] = model_global_weights[index]\n",
    "    index += 1\n",
    "model_attributes[MODEL_GLOBAL_UPDATED][\"trainer\"].orchestrator.load_state_dict(OrderedDict(model_global_weights_dict))    \n",
    "model_attributes[MODEL_GLOBAL_UPDATED][\"trainer\"].orchestrator.eval()\n",
    "\n",
    "model_attributes[MODEL_GLOBAL_UPDATED][\"trainer\"].validate_model()\n",
    "model_attributes[MODEL_GLOBAL_UPDATED][\"eval_results\"] = model_attributes[MODEL_GLOBAL_UPDATED][\"trainer\"].evaluate()"
   ]
  },
  {
   "cell_type": "markdown",
   "metadata": {},
   "source": [
    "## Evaluation"
   ]
  },
  {
   "cell_type": "code",
   "execution_count": 17,
   "metadata": {},
   "outputs": [
    {
     "data": {
      "text/html": [
       "<div>\n",
       "<style scoped>\n",
       "    .dataframe tbody tr th:only-of-type {\n",
       "        vertical-align: middle;\n",
       "    }\n",
       "\n",
       "    .dataframe tbody tr th {\n",
       "        vertical-align: top;\n",
       "    }\n",
       "\n",
       "    .dataframe thead th {\n",
       "        text-align: right;\n",
       "    }\n",
       "</style>\n",
       "<table border=\"1\" class=\"dataframe\">\n",
       "  <thead>\n",
       "    <tr style=\"text-align: right;\">\n",
       "      <th></th>\n",
       "      <th>model_global</th>\n",
       "      <th>model_B</th>\n",
       "      <th>model_C</th>\n",
       "      <th>model_global_updated</th>\n",
       "    </tr>\n",
       "  </thead>\n",
       "  <tbody>\n",
       "    <tr>\n",
       "      <th>accuracy</th>\n",
       "      <td>0.539977</td>\n",
       "      <td>0.761115</td>\n",
       "      <td>0.629095</td>\n",
       "      <td>0.776716</td>\n",
       "    </tr>\n",
       "    <tr>\n",
       "      <th>total_loss</th>\n",
       "      <td>3.405475</td>\n",
       "      <td>3.183635</td>\n",
       "      <td>3.315339</td>\n",
       "      <td>3.175197</td>\n",
       "    </tr>\n",
       "  </tbody>\n",
       "</table>\n",
       "</div>"
      ],
      "text/plain": [
       "           model_global   model_B   model_C model_global_updated\n",
       "accuracy       0.539977  0.761115  0.629095             0.776716\n",
       "total_loss     3.405475  3.183635  3.315339             3.175197"
      ]
     },
     "execution_count": 17,
     "metadata": {},
     "output_type": "execute_result"
    }
   ],
   "source": [
    "if model_type == MODEL_TYPES.CG:\n",
    "    results_df = pd.DataFrame(index=['accuracy', 'total_loss'], columns=FED_MODELS_TRAINED)\n",
    "\n",
    "    for model_name in FED_MODELS_TRAINED:\n",
    "        for metric, value in model_attributes[model_name][\"eval_results\"].items():\n",
    "            results_df.loc[metric, model_name] = value\n",
    "elif MODEL_TYPES.FLUIDOS_RANKER:\n",
    "    results_df = pd.DataFrame(index=['root_mean_squared_error','loss','regularization_loss','total_loss'], columns=FED_MODELS_TRAINED)\n",
    "\n",
    "    for model_name in FED_MODELS_TRAINED:\n",
    "        for metric, value in model_attributes[model_name][\"eval_results\"].items():\n",
    "            results_df.loc[metric, model_name] = value\n",
    "\n",
    "results_df"
   ]
  },
  {
   "cell_type": "code",
   "execution_count": 18,
   "metadata": {
    "tags": []
   },
   "outputs": [
    {
     "data": {
      "image/png": "[encoded data removed]",
      "text/plain": [
       "<Figure size 1000x600 with 1 Axes>"
      ]
     },
     "metadata": {},
     "output_type": "display_data"
    }
   ],
   "source": [
    "%matplotlib inline\n",
    "\n",
    "\n",
    "plt.figure(figsize=(10, 6))\n",
    "\n",
    "\n",
    "\n",
    "bar_width = 0.2\n",
    "bar_positions = np.arange(len(results_df.columns))\n",
    "\n",
    "\n",
    "for i, index in enumerate(results_df.index):\n",
    "    plt.bar(\n",
    "        bar_positions + i * bar_width,\n",
    "        results_df.loc[index],\n",
    "        width=bar_width,\n",
    "        label=index\n",
    "    )\n",
    "\n",
    "plt.xlabel('Models')\n",
    "plt.ylabel('Metrics')\n",
    "plt.title('Model Performance')\n",
    "plt.xticks(bar_positions + bar_width, results_df.columns)\n",
    "plt.legend(title='Indices', loc='lower right')\n",
    "\n",
    "plt.show()\n"
   ]
  },
  {
   "cell_type": "code",
   "execution_count": null,
   "metadata": {},
   "outputs": [],
   "source": []
  }
 ],
 "metadata": {
  "kernelspec": {
   "display_name": "Python 3 (ipykernel)",
   "language": "python",
   "name": "python3"
  },
  "language_info": {
   "codemirror_mode": {
    "name": "ipython",
    "version": 3
   },
   "file_extension": ".py",
   "mimetype": "text/x-python",
   "name": "python",
   "nbconvert_exporter": "python",
   "pygments_lexer": "ipython3",
   "version": "3.11.9"
  }
 },
 "nbformat": 4,
 "nbformat_minor": 4
}
