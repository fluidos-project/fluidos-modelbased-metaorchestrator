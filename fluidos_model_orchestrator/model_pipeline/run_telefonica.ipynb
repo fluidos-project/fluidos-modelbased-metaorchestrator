{
 "cells": [
  {
   "cell_type": "code",
   "execution_count": 1,
   "metadata": {
    "tags": []
   },
   "outputs": [
    {
     "data": {
      "text/plain": [
       "'\\npip install ipywidgets --upgrade\\n'"
      ]
     },
     "execution_count": 1,
     "metadata": {},
     "output_type": "execute_result"
    }
   ],
   "source": [
    "'''\n",
    "pip install ipywidgets --upgrade\n",
    "'''"
   ]
  },
  {
   "cell_type": "code",
   "execution_count": 2,
   "metadata": {
    "tags": []
   },
   "outputs": [],
   "source": [
    "\n",
    "# !pip install ipywidgets --upgrade\n",
    "# !pip install -r /dccstor/fluidos/luba_dev/fluidos-model-orchestrator/requirements-dev.txt\n",
    "\n"
   ]
  },
  {
   "cell_type": "markdown",
   "metadata": {},
   "source": []
  },
  {
   "cell_type": "code",
   "execution_count": 3,
   "metadata": {
    "tags": []
   },
   "outputs": [],
   "source": [
    "import os\n",
    "from pathlib import Path\n",
    "# import sys\n",
    "# base_path = Path(os.path.abspath(\"\")).parent.parent\n",
    "# sys.path.append(base_path.as_posix())\n",
    "# base_path.as_posix()"
   ]
  },
  {
   "cell_type": "code",
   "execution_count": 4,
   "metadata": {},
   "outputs": [],
   "source": [
    "# !pip install /dccstor/fluidos/luba_dev/fluidos-model-orchestrator/"
   ]
  },
  {
   "cell_type": "code",
   "execution_count": 5,
   "metadata": {
    "tags": []
   },
   "outputs": [],
   "source": [
    "\n",
    "import logging\n",
    "import random\n",
    "import shutil\n",
    "from pathlib import Path\n",
    "from typing import Any\n",
    "import os\n",
    "\n",
    "import numpy as np  # type: ignore\n",
    "import pandas as pd # type: ignore\n",
    "import tensorflow as tf  # type: ignore\n",
    "import torch  # type: ignore\n",
    "import matplotlib.pyplot as plt\n",
    "\n",
    "# from fluidos_model_orchestrator.data_pipeline.augmentation import AUGMENTATION_TYPES\n",
    "# from fluidos_model_orchestrator.data_pipeline.augmentation.augmentation_pipeline import create_augmented_dataset_df\n",
    "# from fluidos_model_orchestrator.data_pipeline.data_processor_factory import DataProcessorFactory\n",
    "# from fluidos_model_orchestrator.data_pipeline.data_util import FLUIDOS_DATASETS\n",
    "# from fluidos_model_orchestrator.data_pipeline.data_util import get_target_column\n",
    "# from fluidos_model_orchestrator.data_pipeline.data_util import load_ml_ready_df\n",
    "from fluidos_model_orchestrator.model.utils import MODEL_TYPES\n",
    "# from fluidos_model_orchestrator.model_pipeline.model_trainer_factory import ModelTrainerFactory\n",
    "# from fluidos_model_orchestrator.util import get_default_output_dir_path\n",
    "# from fluidos_model_orchestrator.util import reset_output_dir\n",
    "from fluidos_model_orchestrator.model.utils import FLUIDOS_COL_NAMES\n",
    "\n",
    "import ipywidgets as widgets\n",
    "widgets.IntSlider()\n",
    "\n",
    "tf.random.set_seed(42)\n",
    "torch.manual_seed(42)\n",
    "random.seed(42)"
   ]
  },
  {
   "cell_type": "markdown",
   "metadata": {},
   "source": [
    "## Hyperparameters"
   ]
  },
  {
   "cell_type": "code",
   "execution_count": 6,
   "metadata": {
    "tags": []
   },
   "outputs": [],
   "source": [
    "ROOT_DIR = Path(os.getcwd()).parent.parent\n",
    "\n",
    "platform = \"ccc\"\n",
    "dataset_name = FLUIDOS_DATASETS.BITBRAINS  # FLUIDOS_DATASETS.GCT\n",
    "model_type = MODEL_TYPES.CG  # MODEL_TYPES.FLUIDOS_RANKER\n",
    "augmentation = AUGMENTATION_TYPES.FEEDBACK_LOOP  # AUGMENTATION_TYPES.PERFORMANCE_RATING\n",
    "\n",
    "epochs = 5\n",
    "load_from_generated = 0\n",
    "test_mode = False\n",
    "max_pod = 2000\n",
    "tr_number = 50 # -1 for gct\n",
    "\n",
    "path_output_model = \"/dccstor/fluidos/luba_dev/tid_bitbrains_100k/\"\n",
    "path_output = \"/dccstor/fluidos/luba_dev/tid_bitbrains_100k\"\n",
    "dataset_subset = \"rnd\"\n",
    "# path_dataset_ml_ready = None\n",
    "# path_dataset_ml_ready = \"/dccstor/fluidos/luba_dev/tid_bitbrains_100k/dataset/bitbrains_v0_train/ml_ready_augmented/feedback_loop\"\n",
    "path_dataset_ml_ready = '/Users/killianlevacher/Downloads/feedback_loop'\n",
    "\n",
    "MODEL_SOURCE = \"model_source\"\n",
    "FED_MODELS_TRAINED = [MODEL_SOURCE, \"model_B\", \"model_C\"]"
   ]
  },
  {
   "cell_type": "markdown",
   "metadata": {},
   "source": []
  },
  {
   "cell_type": "code",
   "execution_count": 7,
   "metadata": {
    "tags": []
   },
   "outputs": [],
   "source": [
    "\n",
    "def get_default_dev_datasets_path(dataset_name: str) -> str:\n",
    "    # fluidos-model-orchestrator\n",
    "    return Path(f\"/dccstor/fluidos/datasets/{dataset_name}/original\").as_posix()\n",
    "    # return Path(ROOT_DIR, f\"tests/dataset_resources/original_dataset_{dataset_name}\").as_posix()\n",
    "\n",
    "\n",
    "def create_default_dev_augmented_ml_ready_dataset(dataset_name: str,\n",
    "                                                  subset: str,\n",
    "                                                  tmp_test_path: Path,\n",
    "                                                  augmentation_types: list[str],\n",
    "                                                  max_pods: int = 10000) -> tuple[Path, pd.DataFrame, pd.DataFrame]:\n",
    "\n",
    "    dataset_processor = DataProcessorFactory().create_dataset_processor(\n",
    "        dataset_name,\n",
    "        original_dataset_path=Path(get_default_dev_datasets_path(dataset_name)),\n",
    "        output_dataset_path=tmp_test_path,\n",
    "        dataset_version=\"0\",\n",
    "        pods_number=max_pods,\n",
    "        mode=\"train\",\n",
    "        tr_number=tr_number\n",
    "    )\n",
    "    dataset_processor.create_source_dataset(subset=subset, cache=True)\n",
    "\n",
    "    # #TODO probably can remove datasetname\n",
    "    dataset_processor.create_ml_ready_dataset_df(cache=True)\n",
    "    ml_augmented_path, _ = create_augmented_dataset_df(augmentation_types,\n",
    "                                                       dataset_processor.ml_ready_path,\n",
    "                                                       dataset_processor.ml_ready_augmented_path,\n",
    "                                                       dataset_processor.metadata_obj,\n",
    "                                                       dataset_name,\n",
    "                                                       cache=True)\n",
    "\n",
    "    ml_ready_augmented_path = ml_augmented_path.joinpath(augmentation_types[0])\n",
    "    pods_assigment_df, template_resources_df = load_ml_ready_df(ml_ready_augmented_path)\n",
    "\n",
    "    return ml_ready_augmented_path, pods_assigment_df, template_resources_df"
   ]
  },
  {
   "cell_type": "code",
   "execution_count": 8,
   "metadata": {
    "tags": []
   },
   "outputs": [],
   "source": [
    "def split_dataset(df: pd.DataFrame, model_names: list[str], model_source_name: str, train_ratio: float = 0.2, test_ratio: float = 0.05) -> dict[str, dict[str, Any]]:\n",
    "\n",
    "    manifests = df[[FLUIDOS_COL_NAMES.POD_FILE_NAME, FLUIDOS_COL_NAMES.POD_MANIFEST]]\n",
    "    counts = manifests[FLUIDOS_COL_NAMES.POD_MANIFEST].value_counts().to_dict()\n",
    "    # Estimation of pod manifests distribution\n",
    "    frequency_per_pod = []\n",
    "    for index, row in manifests.iterrows():\n",
    "        frequency_per_pod.append(counts[row[FLUIDOS_COL_NAMES.POD_MANIFEST]])\n",
    "\n",
    "    manifests.insert(2, \"frequency\", frequency_per_pod)\n",
    "    manifests = manifests.sort_values(by=\"frequency\", ascending=False)\n",
    "    manifests[\"frequency\"] = manifests[\"frequency\"] / len(manifests)\n",
    "    manifests.index = range(len(manifests.index))\n",
    "    manifests = manifests.reset_index()\n",
    "\n",
    "    manifests_size = len(manifests)\n",
    "\n",
    "    train_size = int(train_ratio * manifests_size)\n",
    "    test_size = int(test_ratio * manifests_size) \n",
    "    test_manifests = manifests.sample(test_size)\n",
    "\n",
    "    train_manifests = manifests[:train_size]\n",
    "    local_manifests = manifests[train_size:]\n",
    "\n",
    "    train_pods = df[df[FLUIDOS_COL_NAMES.POD_FILE_NAME].isin(train_manifests[FLUIDOS_COL_NAMES.POD_FILE_NAME])]\n",
    "    local_pods = df[df[FLUIDOS_COL_NAMES.POD_FILE_NAME].isin(local_manifests[FLUIDOS_COL_NAMES.POD_FILE_NAME])]\n",
    "    test_pods = df[df[FLUIDOS_COL_NAMES.POD_FILE_NAME].isin(test_manifests[FLUIDOS_COL_NAMES.POD_FILE_NAME])]\n",
    "    split_size = len(local_pods) // (len(model_names) - 1)\n",
    "    local_pods_chunks = [local_pods[i:i + split_size] for i in range(0, len(local_pods), split_size)]\n",
    "\n",
    "    model_attributes = {}\n",
    "    model_attributes[MODEL_SOURCE] = {\"df_train\": train_pods, \"df_test\": test_pods}\n",
    "    for index, model_name in enumerate(model_names[1:]):\n",
    "        model_attributes[model_name] = {\"df_train\": local_pods_chunks[index],\n",
    "                                        \"df_test\": test_pods}\n",
    "            \n",
    "    return model_attributes"
   ]
  },
  {
   "cell_type": "markdown",
   "metadata": {},
   "source": [
    "## Preparing Datasets"
   ]
  },
  {
   "cell_type": "code",
   "execution_count": 9,
   "metadata": {
    "tags": []
   },
   "outputs": [
    {
     "name": "stdout",
     "output_type": "stream",
     "text": [
      "Loading dataset: /dccstor/fluidos/luba_dev/tid_bitbrains_100k/dataset/bitbrains_v0_train/ml_ready_augmented/feedback_loop\n"
     ]
    },
    {
     "ename": "Exception",
     "evalue": "Path to ml_ready dataset does not exist. Path was: /dccstor/fluidos/luba_dev/tid_bitbrains_100k/dataset/bitbrains_v0_train/ml_ready_augmented/feedback_loop",
     "output_type": "error",
     "traceback": [
      "\u001b[0;31m---------------------------------------------------------------------------\u001b[0m",
      "\u001b[0;31mException\u001b[0m                                 Traceback (most recent call last)",
      "Cell \u001b[0;32mIn[9], line 21\u001b[0m\n\u001b[1;32m     18\u001b[0m \u001b[38;5;28;01melse\u001b[39;00m:\n\u001b[1;32m     19\u001b[0m     ml_ready_dataset_path \u001b[38;5;241m=\u001b[39m Path(path_dataset_ml_ready)\n\u001b[0;32m---> 21\u001b[0m pods_assigment_df, template_resources_df \u001b[38;5;241m=\u001b[39m \u001b[43mload_ml_ready_df\u001b[49m\u001b[43m(\u001b[49m\u001b[43mml_ready_dataset_path\u001b[49m\u001b[43m)\u001b[49m\n\u001b[1;32m     23\u001b[0m model_attributes \u001b[38;5;241m=\u001b[39m split_dataset(pods_assigment_df, FED_MODELS_TRAINED, MODEL_SOURCE)\n",
      "File \u001b[0;32m~/GIT/project-fluidos/fluidos-model-orchestrator/fluidos_model_orchestrator/data_pipeline/data_util.py:324\u001b[0m, in \u001b[0;36mload_ml_ready_df\u001b[0;34m(ml_ready_path)\u001b[0m\n\u001b[1;32m    320\u001b[0m \u001b[38;5;66;03m# ,pod_filename,pod_manifest,pod_cpu,pod_memory,machine_id,machine_cpu,machine_memory,machine_location,machine_throughput\u001b[39;00m\n\u001b[1;32m    321\u001b[0m \u001b[38;5;66;03m# '/workspaces/fluidos-model-orchestrator/fluidos_model_orchestrator/tmp_fluidos_dataset_ml/df/pod_machine_assignments.csv'\u001b[39;00m\n\u001b[1;32m    323\u001b[0m \u001b[38;5;28;01mif\u001b[39;00m \u001b[38;5;129;01mnot\u001b[39;00m ml_ready_path\u001b[38;5;241m.\u001b[39mexists():\n\u001b[0;32m--> 324\u001b[0m     \u001b[38;5;28;01mraise\u001b[39;00m \u001b[38;5;167;01mException\u001b[39;00m(\u001b[38;5;124mf\u001b[39m\u001b[38;5;124m\"\u001b[39m\u001b[38;5;124mPath to ml_ready dataset does not exist. Path was: \u001b[39m\u001b[38;5;132;01m{\u001b[39;00mml_ready_path\u001b[38;5;132;01m}\u001b[39;00m\u001b[38;5;124m\"\u001b[39m)\n\u001b[1;32m    326\u001b[0m pods_assigment_df \u001b[38;5;241m=\u001b[39m pd\u001b[38;5;241m.\u001b[39mread_csv(\n\u001b[1;32m    327\u001b[0m     ml_ready_path\u001b[38;5;241m.\u001b[39mjoinpath(PIPELINE_FILES\u001b[38;5;241m.\u001b[39mPOD_TEMPLATE_RESOURCE_ASSIGNMENTS)\u001b[38;5;241m.\u001b[39mas_posix(),\n\u001b[1;32m    328\u001b[0m     dtype\u001b[38;5;241m=\u001b[39m{\n\u001b[1;32m    329\u001b[0m         data_name: D_TYPE[data_name][\u001b[38;5;124m'\u001b[39m\u001b[38;5;124mtype\u001b[39m\u001b[38;5;124m'\u001b[39m]\u001b[38;5;241m.\u001b[39m\u001b[38;5;18m__name__\u001b[39m\u001b[38;5;241m.\u001b[39mreplace(\u001b[38;5;124m\"\u001b[39m\u001b[38;5;124mstr\u001b[39m\u001b[38;5;124m\"\u001b[39m, \u001b[38;5;124m\"\u001b[39m\u001b[38;5;124mbytes\u001b[39m\u001b[38;5;124m\"\u001b[39m) \u001b[38;5;28;01mfor\u001b[39;00m data_name \u001b[38;5;129;01min\u001b[39;00m D_TYPE\n\u001b[1;32m    330\u001b[0m     },\n\u001b[1;32m    331\u001b[0m )\n\u001b[1;32m    333\u001b[0m pods_assigment_df \u001b[38;5;241m=\u001b[39m pods_assigment_df\u001b[38;5;241m.\u001b[39mdrop(\u001b[38;5;124m\"\u001b[39m\u001b[38;5;124mUnnamed: 0\u001b[39m\u001b[38;5;124m\"\u001b[39m, axis\u001b[38;5;241m=\u001b[39m\u001b[38;5;241m1\u001b[39m)\n",
      "\u001b[0;31mException\u001b[0m: Path to ml_ready dataset does not exist. Path was: /dccstor/fluidos/luba_dev/tid_bitbrains_100k/dataset/bitbrains_v0_train/ml_ready_augmented/feedback_loop"
     ]
    }
   ],
   "source": [
    "\n",
    "logging.info(\"Starting Model Building and Training\")\n",
    "\n",
    "if path_output is None:\n",
    "    path_output = str(get_default_output_dir_path())\n",
    "\n",
    "if platform != \"ccc\":\n",
    "    reset_output_dir(Path(path_output))\n",
    "\n",
    "# '/Users/killianlevacher/GIT/project-fluidos/tests/dataset_resources/sample_dataset_GCT'\n",
    "# /Users/killianlevacher/GIT/project-fluidos/                           tests/dataset_resources/sample_dataset_GCT\n",
    "# /Users/killianlevacher/GIT/project-fluidos/fluidos-model-orchestrator/tests/dataset_resources/sample_dataset_GCT/table-a.csv\n",
    "# if path_dataset_ml_ready is None:\n",
    "#     ml_ready_dataset_path, pods_assigment_df, template_resources_df = create_default_dev_augmented_ml_ready_dataset(dataset_name,\n",
    "#                                                                                                                     dataset_subset,\n",
    "#                                                                                                                     Path(path_output).joinpath(\"dataset\"),\n",
    "#                                                                                                                     [augmentation],\n",
    "#                                                                                                                     max_pod)\n",
    "# else:\n",
    "ml_ready_dataset_path = Path(path_dataset_ml_ready)\n",
    "\n",
    "pods_assigment_df, template_resources_df = load_ml_ready_df(ml_ready_dataset_path)\n",
    "\n",
    "model_attributes = split_dataset(pods_assigment_df, FED_MODELS_TRAINED, MODEL_SOURCE)"
   ]
  },
  {
   "cell_type": "markdown",
   "metadata": {},
   "source": [
    "pods_assigment_df## Setting up model Trainers"
   ]
  },
  {
   "cell_type": "code",
   "execution_count": null,
   "metadata": {
    "tags": []
   },
   "outputs": [
    {
     "name": "stdout",
     "output_type": "stream",
     "text": [
      "Creating model trainer\n",
      "Preparing directories\n",
      "Creating model trainer\n",
      "Preparing directories\n",
      "Creating model trainer\n",
      "Preparing directories\n",
      "Subset shape 20000\n"
     ]
    },
    {
     "name": "stderr",
     "output_type": "stream",
     "text": [
      "Embeddings generation: 100%|█████████████████████████████████████████████████████████████████████████████████████████████████████████████████████████| 157/157 [05:23<00:00,  2.06s/it]\n"
     ]
    },
    {
     "name": "stdout",
     "output_type": "stream",
     "text": [
      "Subset shape 5120\n"
     ]
    },
    {
     "name": "stderr",
     "output_type": "stream",
     "text": [
      "Embeddings generation: 100%|███████████████████████████████████████████████████████████████████████████████████████████████████████████████████████████| 40/40 [01:25<00:00,  2.13s/it]\n"
     ]
    },
    {
     "name": "stdout",
     "output_type": "stream",
     "text": [
      "Subset shape 40000\n"
     ]
    },
    {
     "name": "stderr",
     "output_type": "stream",
     "text": [
      "Embeddings generation: 100%|█████████████████████████████████████████████████████████████████████████████████████████████████████████████████████████| 313/313 [10:42<00:00,  2.05s/it]\n"
     ]
    },
    {
     "name": "stdout",
     "output_type": "stream",
     "text": [
      "Subset shape 5120\n"
     ]
    },
    {
     "name": "stderr",
     "output_type": "stream",
     "text": [
      "Embeddings generation: 100%|███████████████████████████████████████████████████████████████████████████████████████████████████████████████████████████| 40/40 [01:13<00:00,  1.84s/it]\n"
     ]
    },
    {
     "name": "stdout",
     "output_type": "stream",
     "text": [
      "Subset shape 40000\n"
     ]
    },
    {
     "name": "stderr",
     "output_type": "stream",
     "text": [
      "Embeddings generation: 100%|█████████████████████████████████████████████████████████████████████████████████████████████████████████████████████████| 313/313 [08:07<00:00,  1.56s/it]\n"
     ]
    },
    {
     "name": "stdout",
     "output_type": "stream",
     "text": [
      "Subset shape 5120\n"
     ]
    },
    {
     "name": "stderr",
     "output_type": "stream",
     "text": [
      "Embeddings generation: 100%|███████████████████████████████████████████████████████████████████████████████████████████████████████████████████████████| 40/40 [01:03<00:00,  1.58s/it]\n"
     ]
    }
   ],
   "source": [
    "if dataset_name == FLUIDOS_DATASETS.BITBRAINS:\n",
    "    total_pods = max_pod * tr_number\n",
    "else:\n",
    "    total_pods = max_pod\n",
    "    \n",
    "for model_name in FED_MODELS_TRAINED:\n",
    "    model_trainer = ModelTrainerFactory.create_model_trainer(model_type,\n",
    "                                                                ml_ready_dataset_path,\n",
    "                                                                Path(path_output).joinpath(\"model_training\"),\n",
    "                                                                max_pod=total_pods,\n",
    "                                                                epochs=epochs,\n",
    "                                                                target_column=get_target_column(augmentation),\n",
    "                                                                load_from_generated=load_from_generated,\n",
    "                                                                # load_from_generated=True,\n",
    "                                                                model_name=model_name)\n",
    "    model_trainer.prepare_directories()\n",
    "    model_attributes[model_name][\"trainer\"] = model_trainer\n",
    "\n",
    "for model_name in FED_MODELS_TRAINED:\n",
    "    TRAINING_RATIO = 1.0\n",
    "    cached_train = model_attributes[model_name][\"trainer\"].prepare_dataset(model_attributes[model_name]['df_train'],\n",
    "                                                                                template_resources_df, test_mode,\n",
    "                                                                                training_size_ratio=TRAINING_RATIO,\n",
    "                                                                                model_tag=model_name, dataset_type=\"train\")\n",
    "    cached_test = model_attributes[model_name][\"trainer\"].prepare_dataset(model_attributes[model_name]['df_test'],\n",
    "                                                                                template_resources_df, test_mode,\n",
    "                                                                                training_size_ratio=TRAINING_RATIO,\n",
    "                                                                                model_tag=model_name, dataset_type=\"test\")\n",
    "    model_attributes[model_name][\"trainer\"].cached_train = cached_train\n",
    "    model_attributes[model_name][\"trainer\"].cached_test = cached_test"
   ]
  },
  {
   "cell_type": "markdown",
   "metadata": {},
   "source": [
    "## Training source model"
   ]
  },
  {
   "cell_type": "code",
   "execution_count": null,
   "metadata": {
    "tags": []
   },
   "outputs": [
    {
     "name": "stdout",
     "output_type": "stream",
     "text": [
      "Training...\n"
     ]
    },
    {
     "name": "stderr",
     "output_type": "stream",
     "text": [
      "Epoch 0: 100%|██████████████████████████████████████████████████████████████████████████████████████████████████████████| 2500/2500 [00:24<00:00, 103.96batch/s, accuracy=1, loss=2.98]\n"
     ]
    },
    {
     "name": "stdout",
     "output_type": "stream",
     "text": [
      "Epoch 0, train loss 3.077 Accuracy 0.9 LR: [0.0001]\n"
     ]
    },
    {
     "name": "stderr",
     "output_type": "stream",
     "text": [
      "(val) Epoch 0:   0%|                                                                                                        | 0/640 [00:06<?, ?batch/s, v_accuracy=0.75, val_loss=3.19]\n"
     ]
    },
    {
     "name": "stdout",
     "output_type": "stream",
     "text": [
      "Epoch 0, val loss 3.4473 Accuracy 0.5\n",
      "Current minimal val loss is 3.4473040733486413.\n"
     ]
    },
    {
     "name": "stderr",
     "output_type": "stream",
     "text": [
      "Epoch 1: 100%|██████████████████████████████████████████████████████████████████████████████████████████████████████████| 2500/2500 [00:20<00:00, 124.80batch/s, accuracy=1, loss=2.95]\n"
     ]
    },
    {
     "name": "stdout",
     "output_type": "stream",
     "text": [
      "Epoch 1, train loss 2.9703 Accuracy 0.98 LR: [0.0001]\n"
     ]
    },
    {
     "name": "stderr",
     "output_type": "stream",
     "text": [
      "(val) Epoch 1:   0%|                                                                                                        | 0/640 [00:04<?, ?batch/s, v_accuracy=0.75, val_loss=3.27]\n"
     ]
    },
    {
     "name": "stdout",
     "output_type": "stream",
     "text": [
      "Epoch 1, val loss 3.4087 Accuracy 0.53\n",
      "Current minimal val loss is 3.408718976005912.\n"
     ]
    },
    {
     "name": "stderr",
     "output_type": "stream",
     "text": [
      "Epoch 2: 100%|██████████████████████████████████████████████████████████████████████████████████████████████████████████| 2500/2500 [00:20<00:00, 119.21batch/s, accuracy=1, loss=2.95]\n"
     ]
    },
    {
     "name": "stdout",
     "output_type": "stream",
     "text": [
      "Epoch 2, train loss 2.971 Accuracy 0.98 LR: [1e-05]\n"
     ]
    },
    {
     "name": "stderr",
     "output_type": "stream",
     "text": [
      "(val) Epoch 2:   0%|                                                                                                        | 0/640 [00:03<?, ?batch/s, v_accuracy=0.62, val_loss=3.32]\n"
     ]
    },
    {
     "name": "stdout",
     "output_type": "stream",
     "text": [
      "Epoch 2, val loss 3.3686 Accuracy 0.58\n",
      "Current minimal val loss is 3.368578790128231.\n"
     ]
    },
    {
     "name": "stderr",
     "output_type": "stream",
     "text": [
      "Epoch 3: 100%|██████████████████████████████████████████████████████████████████████████████████████████████████████████| 2500/2500 [00:19<00:00, 131.36batch/s, accuracy=1, loss=2.95]\n"
     ]
    },
    {
     "name": "stdout",
     "output_type": "stream",
     "text": [
      "Epoch 3, train loss 2.9666 Accuracy 0.98 LR: [1e-05]\n"
     ]
    },
    {
     "name": "stderr",
     "output_type": "stream",
     "text": [
      "(val) Epoch 3:   0%|                                                                                                        | 0/640 [00:04<?, ?batch/s, v_accuracy=0.38, val_loss=3.57]\n"
     ]
    },
    {
     "name": "stdout",
     "output_type": "stream",
     "text": [
      "Epoch 3, val loss 3.3685 Accuracy 0.58\n",
      "Current minimal val loss is 3.3685213826596736.\n"
     ]
    },
    {
     "name": "stderr",
     "output_type": "stream",
     "text": [
      "Epoch 4: 100%|██████████████████████████████████████████████████████████████████████████████████████████████████████████| 2500/2500 [00:22<00:00, 110.35batch/s, accuracy=1, loss=2.95]\n"
     ]
    },
    {
     "name": "stdout",
     "output_type": "stream",
     "text": [
      "Epoch 4, train loss 2.9665 Accuracy 0.98 LR: [1e-05]\n"
     ]
    },
    {
     "name": "stderr",
     "output_type": "stream",
     "text": [
      "(val) Epoch 4:   0%|                                                                                                        | 0/640 [00:04<?, ?batch/s, v_accuracy=0.75, val_loss=3.19]\n"
     ]
    },
    {
     "name": "stdout",
     "output_type": "stream",
     "text": [
      "Epoch 4, val loss 3.3621 Accuracy 0.58\n",
      "Current minimal val loss is 3.3621345281600954.\n",
      "(\"Evaluation results: {'total_loss': 3.3621345281600954, 'accuracy': \"\n",
      " '0.5837890625}')\n"
     ]
    }
   ],
   "source": [
    "\n",
    "model_attributes[MODEL_SOURCE][\"trainer\"].build_model()\n",
    "model_attributes[MODEL_SOURCE][\"trainer\"].check_model_dataset_depencies()\n",
    "model_attributes[MODEL_SOURCE][\"trainer\"].train_model()\n",
    "model_attributes[MODEL_SOURCE][\"eval_results\"] = model_attributes[MODEL_SOURCE][\"trainer\"].evaluate()\n",
    "\n",
    "for model_name in FED_MODELS_TRAINED:\n",
    "    if model_name == MODEL_SOURCE:\n",
    "        continue\n",
    "    shutil.copytree(model_attributes[MODEL_SOURCE][\"trainer\"].checkpoint_path.parent.parent.parent, model_attributes[model_name][\"trainer\"].checkpoint_path.parent.parent.parent, dirs_exist_ok=True)\n",
    "    # shutil.copytree(model_attributes[MODEL_SOURCE][\"trainer\"].checkpoint_path.parent.parent, model_attributes[model_name][\"trainer\"].checkpoint_path.parent.parent, dirs_exist_ok=True)\n"
   ]
  },
  {
   "cell_type": "markdown",
   "metadata": {},
   "source": [
    "## Training Child Models from Source Model"
   ]
  },
  {
   "cell_type": "code",
   "execution_count": null,
   "metadata": {
    "tags": []
   },
   "outputs": [
    {
     "name": "stdout",
     "output_type": "stream",
     "text": [
      "model_B\n",
      "Training...\n"
     ]
    },
    {
     "name": "stderr",
     "output_type": "stream",
     "text": [
      "Epoch 0: 100%|████████████████████████████████████████████████████████████████████████████████████████████████████████| 5000/5000 [00:49<00:00, 101.08batch/s, accuracy=0.5, loss=3.44]\n"
     ]
    },
    {
     "name": "stdout",
     "output_type": "stream",
     "text": [
      "Epoch 0, train loss 3.309 Accuracy 0.64 LR: [0.0001]\n"
     ]
    },
    {
     "name": "stderr",
     "output_type": "stream",
     "text": [
      "(val) Epoch 0:   0%|                                                                                                        | 0/640 [00:04<?, ?batch/s, v_accuracy=0.62, val_loss=3.32]\n"
     ]
    },
    {
     "name": "stdout",
     "output_type": "stream",
     "text": [
      "Epoch 0, val loss 3.3224 Accuracy 0.62\n",
      "Current minimal val loss is 3.322444659471512.\n"
     ]
    },
    {
     "name": "stderr",
     "output_type": "stream",
     "text": [
      "Epoch 1: 100%|████████████████████████████████████████████████████████████████████████████████████████████████████████| 5000/5000 [00:50<00:00, 99.20batch/s, accuracy=0.88, loss=3.07]\n"
     ]
    },
    {
     "name": "stdout",
     "output_type": "stream",
     "text": [
      "Epoch 1, train loss 3.2098 Accuracy 0.74 LR: [0.0001]\n"
     ]
    },
    {
     "name": "stderr",
     "output_type": "stream",
     "text": [
      "(val) Epoch 1:   0%|                                                                                                        | 0/640 [00:05<?, ?batch/s, v_accuracy=0.62, val_loss=3.32]\n"
     ]
    },
    {
     "name": "stdout",
     "output_type": "stream",
     "text": [
      "Epoch 1, val loss 3.153 Accuracy 0.79\n",
      "Current minimal val loss is 3.1530446887016295.\n"
     ]
    },
    {
     "name": "stderr",
     "output_type": "stream",
     "text": [
      "Epoch 2: 100%|████████████████████████████████████████████████████████████████████████████████████████████████████████| 5000/5000 [00:50<00:00, 99.68batch/s, accuracy=0.88, loss=3.07]\n"
     ]
    },
    {
     "name": "stdout",
     "output_type": "stream",
     "text": [
      "Epoch 2, train loss 3.1983 Accuracy 0.75 LR: [1e-05]\n"
     ]
    },
    {
     "name": "stderr",
     "output_type": "stream",
     "text": [
      "(val) Epoch 2:   0%|                                                                                                        | 0/640 [00:03<?, ?batch/s, v_accuracy=0.88, val_loss=3.07]\n"
     ]
    },
    {
     "name": "stdout",
     "output_type": "stream",
     "text": [
      "Epoch 2, val loss 3.1647 Accuracy 0.78\n"
     ]
    },
    {
     "name": "stderr",
     "output_type": "stream",
     "text": [
      "Epoch 3: 100%|███████████████████████████████████████████████████████████████████████████████████████████████████████| 5000/5000 [00:40<00:00, 124.44batch/s, accuracy=0.62, loss=3.32]\n"
     ]
    },
    {
     "name": "stdout",
     "output_type": "stream",
     "text": [
      "Epoch 3, train loss 3.1887 Accuracy 0.76 LR: [1e-05]\n"
     ]
    },
    {
     "name": "stderr",
     "output_type": "stream",
     "text": [
      "(val) Epoch 3:   0%|                                                                                                        | 0/640 [00:03<?, ?batch/s, v_accuracy=0.88, val_loss=3.07]\n"
     ]
    },
    {
     "name": "stdout",
     "output_type": "stream",
     "text": [
      "Epoch 3, val loss 3.1645 Accuracy 0.78\n"
     ]
    },
    {
     "name": "stderr",
     "output_type": "stream",
     "text": [
      "Epoch 4: 100%|███████████████████████████████████████████████████████████████████████████████████████████████████████| 5000/5000 [00:39<00:00, 125.24batch/s, accuracy=0.75, loss=3.19]\n"
     ]
    },
    {
     "name": "stdout",
     "output_type": "stream",
     "text": [
      "Epoch 4, train loss 3.1885 Accuracy 0.76 LR: [1e-05]\n"
     ]
    },
    {
     "name": "stderr",
     "output_type": "stream",
     "text": [
      "(val) Epoch 4:   0%|                                                                                                        | 0/640 [00:05<?, ?batch/s, v_accuracy=0.88, val_loss=3.07]\n"
     ]
    },
    {
     "name": "stdout",
     "output_type": "stream",
     "text": [
      "Epoch 4, val loss 3.1632 Accuracy 0.78\n",
      "\"Evaluation results: {'total_loss': 3.163152886554599, 'accuracy': 0.781640625}\"\n",
      "model_C\n",
      "Training...\n"
     ]
    },
    {
     "name": "stderr",
     "output_type": "stream",
     "text": [
      "Epoch 0: 100%|████████████████████████████████████████████████████████████████████████████████████████████████████████| 5000/5000 [00:47<00:00, 105.36batch/s, accuracy=0.75, loss=3.2]\n"
     ]
    },
    {
     "name": "stdout",
     "output_type": "stream",
     "text": [
      "Epoch 0, train loss 3.3199 Accuracy 0.63 LR: [0.0001]\n"
     ]
    },
    {
     "name": "stderr",
     "output_type": "stream",
     "text": [
      "(val) Epoch 0:   0%|                                                                                                        | 0/640 [00:04<?, ?batch/s, v_accuracy=0.75, val_loss=3.19]\n"
     ]
    },
    {
     "name": "stdout",
     "output_type": "stream",
     "text": [
      "Epoch 0, val loss 3.316 Accuracy 0.63\n",
      "Current minimal val loss is 3.316000550240278.\n"
     ]
    },
    {
     "name": "stderr",
     "output_type": "stream",
     "text": [
      "Epoch 1: 100%|███████████████████████████████████████████████████████████████████████████████████████████████████████| 5000/5000 [00:48<00:00, 103.92batch/s, accuracy=0.62, loss=3.32]\n"
     ]
    },
    {
     "name": "stdout",
     "output_type": "stream",
     "text": [
      "Epoch 1, train loss 3.2537 Accuracy 0.69 LR: [0.0001]\n"
     ]
    },
    {
     "name": "stderr",
     "output_type": "stream",
     "text": [
      "(val) Epoch 1:   0%|                                                                                                        | 0/640 [00:03<?, ?batch/s, v_accuracy=0.62, val_loss=3.32]\n"
     ]
    },
    {
     "name": "stdout",
     "output_type": "stream",
     "text": [
      "Epoch 1, val loss 3.3143 Accuracy 0.63\n",
      "Current minimal val loss is 3.3142888523638248.\n"
     ]
    },
    {
     "name": "stderr",
     "output_type": "stream",
     "text": [
      "Epoch 2: 100%|████████████████████████████████████████████████████████████████████████████████████████████████████████| 5000/5000 [00:45<00:00, 108.96batch/s, accuracy=0.75, loss=3.2]\n"
     ]
    },
    {
     "name": "stdout",
     "output_type": "stream",
     "text": [
      "Epoch 2, train loss 3.2691 Accuracy 0.68 LR: [1e-05]\n"
     ]
    },
    {
     "name": "stderr",
     "output_type": "stream",
     "text": [
      "(val) Epoch 2:   0%|                                                                                                        | 0/640 [00:07<?, ?batch/s, v_accuracy=0.62, val_loss=3.32]\n"
     ]
    },
    {
     "name": "stdout",
     "output_type": "stream",
     "text": [
      "Epoch 2, val loss 3.3044 Accuracy 0.64\n",
      "Current minimal val loss is 3.3043787121772765.\n"
     ]
    },
    {
     "name": "stderr",
     "output_type": "stream",
     "text": [
      "Epoch 3: 100%|████████████████████████████████████████████████████████████████████████████████████████████████████████| 5000/5000 [00:50<00:00, 98.97batch/s, accuracy=0.75, loss=3.19]\n"
     ]
    },
    {
     "name": "stdout",
     "output_type": "stream",
     "text": [
      "Epoch 3, train loss 3.2499 Accuracy 0.7 LR: [1e-05]\n"
     ]
    },
    {
     "name": "stderr",
     "output_type": "stream",
     "text": [
      "(val) Epoch 3:   0%|                                                                                                        | 0/640 [00:05<?, ?batch/s, v_accuracy=0.38, val_loss=3.57]\n"
     ]
    },
    {
     "name": "stdout",
     "output_type": "stream",
     "text": [
      "Epoch 3, val loss 3.301 Accuracy 0.64\n",
      "Current minimal val loss is 3.3010287672281264.\n"
     ]
    },
    {
     "name": "stderr",
     "output_type": "stream",
     "text": [
      "Epoch 4: 100%|███████████████████████████████████████████████████████████████████████████████████████████████████████| 5000/5000 [00:47<00:00, 105.97batch/s, accuracy=0.88, loss=3.07]\n"
     ]
    },
    {
     "name": "stdout",
     "output_type": "stream",
     "text": [
      "Epoch 4, train loss 3.207 Accuracy 0.74 LR: [1e-05]\n"
     ]
    },
    {
     "name": "stderr",
     "output_type": "stream",
     "text": [
      "(val) Epoch 4:   0%|                                                                                                         | 0/640 [00:04<?, ?batch/s, v_accuracy=0.75, val_loss=3.2]\n"
     ]
    },
    {
     "name": "stdout",
     "output_type": "stream",
     "text": [
      "Epoch 4, val loss 3.2186 Accuracy 0.73\n",
      "Current minimal val loss is 3.218635018542409.\n",
      "\"Evaluation results: {'total_loss': 3.218635018542409, 'accuracy': 0.726953125}\"\n"
     ]
    }
   ],
   "source": [
    "\n",
    "\n",
    "for model_name in FED_MODELS_TRAINED:\n",
    "    if model_name == MODEL_SOURCE:\n",
    "        continue\n",
    "    print(model_name)\n",
    "    model_attributes[model_name][\"trainer\"].load_model(load_from_checkpoint=True)  # type: ignore\n",
    "    model_attributes[model_name][\"trainer\"].train_model()\n",
    "    model_attributes[model_name][\"eval_results\"] = model_attributes[model_name][\"trainer\"].evaluate()\n",
    "\n",
    "logging.info(\"MODELS Evaluation Results\")\n",
    "for model_name in FED_MODELS_TRAINED:\n",
    "    if \"eval_results\" in model_attributes[model_name]:\n",
    "        logging.info(f\"MODEL: {model_name}: {model_attributes[model_name]['eval_results']}\")\n",
    "\n",
    "logging.info(f\"Pipeline output located at: {path_output_model}\")\n"
   ]
  },
  {
   "cell_type": "code",
   "execution_count": null,
   "metadata": {},
   "outputs": [
    {
     "data": {
      "text/html": [
       "<div>\n",
       "<style scoped>\n",
       "    .dataframe tbody tr th:only-of-type {\n",
       "        vertical-align: middle;\n",
       "    }\n",
       "\n",
       "    .dataframe tbody tr th {\n",
       "        vertical-align: top;\n",
       "    }\n",
       "\n",
       "    .dataframe thead th {\n",
       "        text-align: right;\n",
       "    }\n",
       "</style>\n",
       "<table border=\"1\" class=\"dataframe\">\n",
       "  <thead>\n",
       "    <tr style=\"text-align: right;\">\n",
       "      <th></th>\n",
       "      <th>model_source</th>\n",
       "      <th>model_B</th>\n",
       "      <th>model_C</th>\n",
       "    </tr>\n",
       "  </thead>\n",
       "  <tbody>\n",
       "    <tr>\n",
       "      <th>accuracy</th>\n",
       "      <td>0.583789</td>\n",
       "      <td>0.781641</td>\n",
       "      <td>0.726953</td>\n",
       "    </tr>\n",
       "    <tr>\n",
       "      <th>total_loss</th>\n",
       "      <td>3.362135</td>\n",
       "      <td>3.163153</td>\n",
       "      <td>3.218635</td>\n",
       "    </tr>\n",
       "  </tbody>\n",
       "</table>\n",
       "</div>"
      ],
      "text/plain": [
       "           model_source   model_B   model_C\n",
       "accuracy       0.583789  0.781641  0.726953\n",
       "total_loss     3.362135  3.163153  3.218635"
      ]
     },
     "execution_count": 39,
     "metadata": {},
     "output_type": "execute_result"
    }
   ],
   "source": [
    "if model_type == MODEL_TYPES.CG:\n",
    "    results_df = pd.DataFrame(index=['accuracy', 'total_loss'], columns=FED_MODELS_TRAINED)\n",
    "\n",
    "    for model_name in FED_MODELS_TRAINED:\n",
    "        for metric, value in model_attributes[model_name][\"eval_results\"].items():\n",
    "            results_df.loc[metric, model_name] = value\n",
    "elif MODEL_TYPES.FLUIDOS_RANKER:\n",
    "    results_df = pd.DataFrame(index=['root_mean_squared_error','loss','regularization_loss','total_loss'], columns=FED_MODELS_TRAINED)\n",
    "\n",
    "    for model_name in FED_MODELS_TRAINED:\n",
    "        for metric, value in model_attributes[model_name][\"eval_results\"].items():\n",
    "            results_df.loc[metric, model_name] = value\n",
    "\n",
    "results_df"
   ]
  },
  {
   "cell_type": "code",
   "execution_count": null,
   "metadata": {},
   "outputs": [
    {
     "data": {
      "image/png": "[encoded data removed]",
      "text/plain": [
       "<Figure size 1000x600 with 1 Axes>"
      ]
     },
     "metadata": {},
     "output_type": "display_data"
    }
   ],
   "source": [
    "%matplotlib inline\n",
    "\n",
    "\n",
    "plt.figure(figsize=(10, 6))\n",
    "\n",
    "\n",
    "\n",
    "bar_width = 0.2\n",
    "bar_positions = np.arange(len(results_df.columns))\n",
    "\n",
    "\n",
    "for i, index in enumerate(results_df.index):\n",
    "    plt.bar(\n",
    "        bar_positions + i * bar_width,\n",
    "        results_df.loc[index],\n",
    "        width=bar_width,\n",
    "        label=index\n",
    "    )\n",
    "\n",
    "plt.xlabel('Models')\n",
    "plt.ylabel('Metrics')\n",
    "plt.title('Model Performance')\n",
    "plt.xticks(bar_positions + bar_width, results_df.columns)\n",
    "plt.legend(title='Indices', loc='lower right')\n",
    "\n",
    "plt.show()\n"
   ]
  },
  {
   "cell_type": "code",
   "execution_count": null,
   "metadata": {},
   "outputs": [],
   "source": []
  },
  {
   "cell_type": "code",
   "execution_count": null,
   "metadata": {},
   "outputs": [],
   "source": []
  },
  {
   "cell_type": "code",
   "execution_count": null,
   "metadata": {},
   "outputs": [],
   "source": []
  },
  {
   "cell_type": "code",
   "execution_count": null,
   "metadata": {},
   "outputs": [],
   "source": []
  }
 ],
 "metadata": {
  "kernelspec": {
   "display_name": "Python 3 (ipykernel)",
   "language": "python",
   "name": "python3"
  },
  "language_info": {
   "codemirror_mode": {
    "name": "ipython",
    "version": 3
   },
   "file_extension": ".py",
   "mimetype": "text/x-python",
   "name": "python",
   "nbconvert_exporter": "python",
   "pygments_lexer": "ipython3",
   "version": "3.11.9"
  }
 },
 "nbformat": 4,
 "nbformat_minor": 4
}
